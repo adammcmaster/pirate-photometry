{
 "cells": [
  {
   "cell_type": "code",
   "execution_count": 1,
   "id": "ce0c81c7-1b09-4920-841a-319d3d0d34cd",
   "metadata": {},
   "outputs": [],
   "source": [
    "from astropy.coordinates import SkyCoord\n",
    "from astropy.table import Table\n",
    "from IPython.display import display\n",
    "import csv"
   ]
  },
  {
   "cell_type": "code",
   "execution_count": 2,
   "id": "6d66c1c7-573b-435a-b5c8-0a170966c760",
   "metadata": {},
   "outputs": [],
   "source": [
    "ALL_FILTERS = ('B', 'V', 'R', 'I')\n",
    "\n",
    "targets = {\n",
    "    'HD38451': ALL_FILTERS,\n",
    "    '27Cephei': ALL_FILTERS,\n",
    "}"
   ]
  },
  {
   "cell_type": "code",
   "execution_count": 3,
   "id": "1f578116-9be2-4c01-bf8a-4197d9ccbbb2",
   "metadata": {},
   "outputs": [],
   "source": [
    "MAX_FLAG_THRESHOLD = 0.25\n",
    "DEFAULT_EXPOSURES = range(5, 60, 5)\n",
    "MIN_EXPOSURES = 5"
   ]
  },
  {
   "cell_type": "code",
   "execution_count": 4,
   "id": "65fb63ec-eab3-4ff8-9289-8d83658d7924",
   "metadata": {},
   "outputs": [],
   "source": [
    "with open('data/schedule_pirate.csv', 'w') as csv_file:\n",
    "    csv_writer = csv.writer(csv_file)\n",
    "    csv_writer.writerow((\n",
    "        'Name', 'RA', 'Dec', 'is timed', 'start time', 'end time',\n",
    "        'Priority', 'Atoms', 'Binning', 'repeats', 'Max uses', 'Alt limit'\n",
    "    ))\n",
    "    for target, filters in targets.items():\n",
    "        _filters = {}\n",
    "        for f in filters:\n",
    "            _filters[f] = []\n",
    "            for e in DEFAULT_EXPOSURES:\n",
    "                 _filters[f].append(float(e))\n",
    "        filters = _filters\n",
    "        \n",
    "        try:\n",
    "            photometry = Table.read(f'data/{target}.ecsv')\n",
    "            photometry['flagged'] = photometry['FLAGS'] != 0\n",
    "            for band, group in photometry.to_pandas().groupby('band'):\n",
    "                pt = group[['exposure', 'flagged']].pivot_table(\n",
    "                    columns='flagged',\n",
    "                    index=['exposure'],\n",
    "                    aggfunc=lambda x: len(x),\n",
    "                    fill_value=0,\n",
    "                )\n",
    "                pt['total'] = pt[True] + pt[False]\n",
    "                pt['frac'] = pt[True] / pt['total']\n",
    "                \n",
    "                flagged_exposures = pt[(pt['total'] >= MIN_EXPOSURES) & (pt['frac'] >= MAX_FLAG_THRESHOLD)].index\n",
    "                if len(flagged_exposures) > 0:\n",
    "                    min_flagged_exposure = pt[(pt['total'] >= MIN_EXPOSURES) & (pt['frac'] >= MAX_FLAG_THRESHOLD)].index.min()\n",
    "                    filters[band] = [e for e in filters[band] if e < min_flagged_exposure]\n",
    "                    filters[band] = [max(filters[band])]\n",
    "        except FileNotFoundError:\n",
    "            pass\n",
    "\n",
    "        coords = SkyCoord.from_name(target, parse=True)\n",
    "        atoms = []\n",
    "        for f, es in filters.items():\n",
    "            for e in es[len(es)-3:]:\n",
    "                atoms.append(f'{f}:{e}')\n",
    "        atoms = ';'.join(atoms)\n",
    "\n",
    "        csv_writer.writerow([\n",
    "            target, coords.ra.to_string(alwayssign=True, sep=':'),\n",
    "            coords.dec.to_string(alwayssign=True, sep=':'), 'FALSE', '',\n",
    "            '', '500', atoms, '1', '1', '3', '20',\n",
    "        ])"
   ]
  }
 ],
 "metadata": {
  "kernelspec": {
   "display_name": "Python 3 (ipykernel)",
   "language": "python",
   "name": "python3"
  },
  "language_info": {
   "codemirror_mode": {
    "name": "ipython",
    "version": 3
   },
   "file_extension": ".py",
   "mimetype": "text/x-python",
   "name": "python",
   "nbconvert_exporter": "python",
   "pygments_lexer": "ipython3",
   "version": "3.8.5"
  }
 },
 "nbformat": 4,
 "nbformat_minor": 5
}
