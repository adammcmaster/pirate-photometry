{
 "cells": [
  {
   "cell_type": "code",
   "execution_count": 1,
   "id": "ce0c81c7-1b09-4920-841a-319d3d0d34cd",
   "metadata": {},
   "outputs": [],
   "source": [
    "from astropy.coordinates import SkyCoord\n",
    "from astropy.table import Table\n",
    "from astropy import units as u\n",
    "\n",
    "from IPython.display import display\n",
    "\n",
    "import csv\n",
    "\n",
    "from targets import TARGETS, ALL_TELESCOPE_FILTERS"
   ]
  },
  {
   "cell_type": "code",
   "execution_count": 2,
   "id": "1f578116-9be2-4c01-bf8a-4197d9ccbbb2",
   "metadata": {},
   "outputs": [],
   "source": [
    "MAX_FLAG_THRESHOLD = 0.25\n",
    "MIN_EXPOSURES = 5\n",
    "DEFAULT_EXPOSURES = list(range(1, 5)) + list(range(5, 60, 5)) + list(range(60, 600, 60))"
   ]
  },
  {
   "cell_type": "code",
   "execution_count": 3,
   "id": "f73765db-48fd-4655-95a5-af210ad429eb",
   "metadata": {},
   "outputs": [],
   "source": [
    "PRIORITY = 1000\n",
    "BINNING = 1\n",
    "REPEATS = 1\n",
    "MAX_USES = 3\n",
    "ALT = 20"
   ]
  },
  {
   "cell_type": "code",
   "execution_count": 4,
   "id": "65fb63ec-eab3-4ff8-9289-8d83658d7924",
   "metadata": {},
   "outputs": [],
   "source": [
    "for telescope, telescope_filters in ALL_TELESCOPE_FILTERS.items():\n",
    "    with open(f'data/schedule_{telescope}.csv', 'w') as csv_file:\n",
    "        csv_writer = csv.writer(csv_file)\n",
    "        csv_writer.writerow((\n",
    "            'Name', 'RA', 'Dec', 'is timed', 'start time', 'end time',\n",
    "            'Priority', 'Atoms', 'Binning', 'repeats', 'Max uses', 'Alt limit'\n",
    "        ))\n",
    "        for target, filters in TARGETS.items():\n",
    "            filters = filters & ALL_TELESCOPE_FILTERS[telescope]\n",
    "            _filters = {}\n",
    "            for f in filters:\n",
    "                _filters[f] = []\n",
    "                for e in DEFAULT_EXPOSURES:\n",
    "                     _filters[f].append(float(e))\n",
    "            filters = _filters\n",
    "\n",
    "            try:\n",
    "                photometry = Table.read(f'data/{target}.ecsv')\n",
    "                photometry = photometry[photometry['telescope'] == telescope]\n",
    "                photometry['flagged'] = (photometry['FLAGS'] & 4) != 0 # In this case we only care about saturation\n",
    "                for band, group in photometry.to_pandas().groupby('band'):\n",
    "                    pt = group[['exposure', 'flagged']].pivot_table(\n",
    "                        columns='flagged',\n",
    "                        index=['exposure'],\n",
    "                        aggfunc=lambda x: len(x),\n",
    "                        fill_value=0,\n",
    "                    )\n",
    "                    if True not in pt:\n",
    "                        pt[True] = 0\n",
    "                    if False not in pt:\n",
    "                        pt[False] = 0\n",
    "                    pt['total'] = pt[True] + pt[False]\n",
    "                    pt['frac'] = pt[True] / pt['total']\n",
    "\n",
    "                    flagged_exposures = pt[(pt['total'] >= MIN_EXPOSURES) & (pt['frac'] >= MAX_FLAG_THRESHOLD)].index\n",
    "                    if len(flagged_exposures) > 0:\n",
    "                        min_flagged_exposure = flagged_exposures.min()\n",
    "                        filters[band] = [e for e in filters[band] if e < min_flagged_exposure]\n",
    "                        \n",
    "                    successful_exposures = pt[(pt['total'] >= MIN_EXPOSURES) & (pt['frac'] < MAX_FLAG_THRESHOLD)].index\n",
    "                    if len(successful_exposures) > 0:\n",
    "                        max_successful_exposure = successful_exposures.max()\n",
    "                        filters[band] = [e for e in filters[band] if e >= max_successful_exposure]\n",
    "            except FileNotFoundError:\n",
    "                pass\n",
    "\n",
    "            coords = SkyCoord.from_name(target, parse=True)\n",
    "            atoms = []\n",
    "            for f, es in filters.items():\n",
    "                for e in {es[0], es[int(len(es)/2)], es[-1]}: \n",
    "                    # Take the unique lowest, middle, and highest exposure times\n",
    "                    atoms.append(f'{f}:{e}')\n",
    "            atoms = ';'.join(atoms)\n",
    "            csv_writer.writerow([\n",
    "                target, coords.ra.to_string(alwayssign=True, sep=':', unit=u.hour),\n",
    "                coords.dec.to_string(alwayssign=True, sep=':'), 'FALSE', '',\n",
    "                '', PRIORITY, atoms, BINNING, REPEATS, MAX_USES, ALT,\n",
    "            ])"
   ]
  }
 ],
 "metadata": {
  "kernelspec": {
   "display_name": "Python 3 (ipykernel)",
   "language": "python",
   "name": "python3"
  },
  "language_info": {
   "codemirror_mode": {
    "name": "ipython",
    "version": 3
   },
   "file_extension": ".py",
   "mimetype": "text/x-python",
   "name": "python",
   "nbconvert_exporter": "python",
   "pygments_lexer": "ipython3",
   "version": "3.8.5"
  }
 },
 "nbformat": 4,
 "nbformat_minor": 5
}
