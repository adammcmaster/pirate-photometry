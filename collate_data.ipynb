{
 "cells": [
  {
   "cell_type": "code",
   "execution_count": 1,
   "id": "aed1f1e4-8d87-47e0-8b29-a35abb25ffec",
   "metadata": {},
   "outputs": [],
   "source": [
    "from astropy.coordinates import SkyCoord\n",
    "from astropy.coordinates.name_resolve import NameResolveError\n",
    "from astropy.table import Table, Row, vstack, unique, hstack\n",
    "from astropy.time import Time\n",
    "from astropy import units as u\n",
    "\n",
    "from astroquery.vizier import Vizier\n",
    "\n",
    "import numpy\n",
    "\n",
    "from scipy.spatial.distance import cdist\n",
    "from tqdm.notebook import tqdm\n",
    "\n",
    "from pathlib import Path\n",
    "\n",
    "import itertools\n",
    "import pickle\n",
    "\n",
    "from targets import ESCAPED_TARGET_NAMES"
   ]
  },
  {
   "cell_type": "code",
   "execution_count": 2,
   "id": "daf55d63-c5ba-4711-b16b-d675621dccbf",
   "metadata": {},
   "outputs": [],
   "source": [
    "DATA_PATH = Path(\"//stem-linux-homes/OSL-Telescope/data/users/Pipeline/\")\n",
    "NUM_CALIBRATION_ROWS = 10\n",
    "CALIBRATION_CATALOGUES = {\n",
    "    'I/284/out': {\n",
    "        'B': 'B1mag',\n",
    "        'R': 'R1mag',\n",
    "        'I': 'Imag',\n",
    "    },\n",
    "    'VI/135/table15': {\n",
    "        'B': 'BTmag',\n",
    "        'V': 'VTmag',\n",
    "    }\n",
    "}\n",
    "REPROCESS = False # Set to True to reprocess previous data rather than finding new data"
   ]
  },
  {
   "cell_type": "code",
   "execution_count": 3,
   "id": "8241d12c-3c83-433d-b26c-4a04e885eac0",
   "metadata": {},
   "outputs": [],
   "source": [
    "try: \n",
    "    with open('data/processed_dates.pickle', 'rb') as processed_dates_file:\n",
    "        processed_dates = pickle.load(processed_dates_file)\n",
    "except FileNotFoundError:\n",
    "    processed_dates = {}"
   ]
  },
  {
   "cell_type": "code",
   "execution_count": 4,
   "id": "7680671b-28fa-4910-b471-a5f4f85bfbb4",
   "metadata": {},
   "outputs": [],
   "source": [
    "try: \n",
    "    with open('data/coords.pickle', 'rb') as coords_file:\n",
    "        coords = pickle.load(coords_file)\n",
    "except FileNotFoundError:\n",
    "    coords = {}"
   ]
  },
  {
   "cell_type": "code",
   "execution_count": 5,
   "id": "179a6a9d-13e7-4add-aea8-c9d21e59df21",
   "metadata": {},
   "outputs": [],
   "source": [
    "if REPROCESS:\n",
    "    processed_dates = [ d for d, has_data in processed_dates.items() if not has_data ]"
   ]
  },
  {
   "cell_type": "code",
   "execution_count": 6,
   "id": "28ababc2-2d96-4505-99ef-fbbcaad05afe",
   "metadata": {
    "tags": []
   },
   "outputs": [
    {
     "data": {
      "application/vnd.jupyter.widget-view+json": {
       "model_id": "78e5da7a5ad949e28856948bde4a598b",
       "version_major": 2,
       "version_minor": 0
      },
      "text/plain": [
       "New dates:   0%|          | 0/48 [00:00<?, ?it/s]"
      ]
     },
     "metadata": {},
     "output_type": "display_data"
    },
    {
     "data": {
      "application/vnd.jupyter.widget-view+json": {
       "model_id": "03ce58171c2f469c83660e9a02a32b8f",
       "version_major": 2,
       "version_minor": 0
      },
      "text/plain": [
       "\\\\stem-linux-homes\\OSL-Telescope\\data\\users\\Pipeline\\COAST\\2021_09_18:   0%|          | 0/27 [00:00<?, ?it/s]"
      ]
     },
     "metadata": {},
     "output_type": "display_data"
    },
    {
     "data": {
      "application/vnd.jupyter.widget-view+json": {
       "model_id": "b8cd567fd7434d7ab7003afc842d5406",
       "version_major": 2,
       "version_minor": 0
      },
      "text/plain": [
       "\\\\stem-linux-homes\\OSL-Telescope\\data\\users\\Pipeline\\COAST\\2021_09_21:   0%|          | 0/27 [00:00<?, ?it/s]"
      ]
     },
     "metadata": {},
     "output_type": "display_data"
    },
    {
     "data": {
      "application/vnd.jupyter.widget-view+json": {
       "model_id": "0c4f753c61af4b33a32122c173abbec2",
       "version_major": 2,
       "version_minor": 0
      },
      "text/plain": [
       "\\\\stem-linux-homes\\OSL-Telescope\\data\\users\\Pipeline\\COAST\\2021_10_28:   0%|          | 0/8 [00:00<?, ?it/s]"
      ]
     },
     "metadata": {},
     "output_type": "display_data"
    },
    {
     "data": {
      "application/vnd.jupyter.widget-view+json": {
       "model_id": "5b1cc527e7364d7b9788ccde474b96c4",
       "version_major": 2,
       "version_minor": 0
      },
      "text/plain": [
       "\\\\stem-linux-homes\\OSL-Telescope\\data\\users\\Pipeline\\COAST\\2021_10_29:   0%|          | 0/8 [00:00<?, ?it/s]"
      ]
     },
     "metadata": {},
     "output_type": "display_data"
    },
    {
     "data": {
      "application/vnd.jupyter.widget-view+json": {
       "model_id": "2eaeb625ca714a0a82e3f48ab7aaecf9",
       "version_major": 2,
       "version_minor": 0
      },
      "text/plain": [
       "\\\\stem-linux-homes\\OSL-Telescope\\data\\users\\Pipeline\\COAST\\2021_10_30:   0%|          | 0/15 [00:00<?, ?it/s]"
      ]
     },
     "metadata": {},
     "output_type": "display_data"
    },
    {
     "data": {
      "application/vnd.jupyter.widget-view+json": {
       "model_id": "41c2e913464244e79c6da22a0a584e16",
       "version_major": 2,
       "version_minor": 0
      },
      "text/plain": [
       "\\\\stem-linux-homes\\OSL-Telescope\\data\\users\\Pipeline\\COAST\\2021_10_31:   0%|          | 0/29 [00:00<?, ?it/s]"
      ]
     },
     "metadata": {},
     "output_type": "display_data"
    },
    {
     "data": {
      "application/vnd.jupyter.widget-view+json": {
       "model_id": "093f4ccbd18f4938b82e9793736bf53c",
       "version_major": 2,
       "version_minor": 0
      },
      "text/plain": [
       "\\\\stem-linux-homes\\OSL-Telescope\\data\\users\\Pipeline\\COAST\\2021_11_02:   0%|          | 0/6 [00:00<?, ?it/s]"
      ]
     },
     "metadata": {},
     "output_type": "display_data"
    },
    {
     "data": {
      "application/vnd.jupyter.widget-view+json": {
       "model_id": "f24afc73a163446197696f0791c84f86",
       "version_major": 2,
       "version_minor": 0
      },
      "text/plain": [
       "\\\\stem-linux-homes\\OSL-Telescope\\data\\users\\Pipeline\\COAST\\2021_11_03:   0%|          | 0/19 [00:00<?, ?it/s]"
      ]
     },
     "metadata": {},
     "output_type": "display_data"
    },
    {
     "data": {
      "application/vnd.jupyter.widget-view+json": {
       "model_id": "860933d283334321a41869a2cf76e328",
       "version_major": 2,
       "version_minor": 0
      },
      "text/plain": [
       "\\\\stem-linux-homes\\OSL-Telescope\\data\\users\\Pipeline\\PIRATE\\2021_09_18:   0%|          | 0/104 [00:00<?, ?it/s…"
      ]
     },
     "metadata": {},
     "output_type": "display_data"
    },
    {
     "data": {
      "application/vnd.jupyter.widget-view+json": {
       "model_id": "91f68aa5cf6940179a544e0a7012a825",
       "version_major": 2,
       "version_minor": 0
      },
      "text/plain": [
       "\\\\stem-linux-homes\\OSL-Telescope\\data\\users\\Pipeline\\PIRATE\\2021_09_21:   0%|          | 0/27 [00:00<?, ?it/s]"
      ]
     },
     "metadata": {},
     "output_type": "display_data"
    },
    {
     "data": {
      "application/vnd.jupyter.widget-view+json": {
       "model_id": "c5057585a9f940cc8cb52f67045b7de5",
       "version_major": 2,
       "version_minor": 0
      },
      "text/plain": [
       "\\\\stem-linux-homes\\OSL-Telescope\\data\\users\\Pipeline\\PIRATE\\2021_11_02:   0%|          | 0/1 [00:00<?, ?it/s]"
      ]
     },
     "metadata": {},
     "output_type": "display_data"
    },
    {
     "data": {
      "application/vnd.jupyter.widget-view+json": {
       "model_id": "dbbcbece8fb44cdfac3e892befe2dfde",
       "version_major": 2,
       "version_minor": 0
      },
      "text/plain": [
       "\\\\stem-linux-homes\\OSL-Telescope\\data\\users\\Pipeline\\PIRATE\\2021_10_03:   0%|          | 0/7 [00:00<?, ?it/s]"
      ]
     },
     "metadata": {},
     "output_type": "display_data"
    },
    {
     "data": {
      "application/vnd.jupyter.widget-view+json": {
       "model_id": "db709e3c027a4c6fbdc3e8ae7ca4d1c2",
       "version_major": 2,
       "version_minor": 0
      },
      "text/plain": [
       "\\\\stem-linux-homes\\OSL-Telescope\\data\\users\\Pipeline\\PIRATE\\2021_09_30:   0%|          | 0/13 [00:00<?, ?it/s]"
      ]
     },
     "metadata": {},
     "output_type": "display_data"
    },
    {
     "data": {
      "application/vnd.jupyter.widget-view+json": {
       "model_id": "316ec48592a04cddbb43cf09baa66647",
       "version_major": 2,
       "version_minor": 0
      },
      "text/plain": [
       "\\\\stem-linux-homes\\OSL-Telescope\\data\\users\\Pipeline\\PIRATE\\2021_10_01:   0%|          | 0/24 [00:00<?, ?it/s]"
      ]
     },
     "metadata": {},
     "output_type": "display_data"
    },
    {
     "data": {
      "application/vnd.jupyter.widget-view+json": {
       "model_id": "ddfb894c7a554c0997c28ae3f4a3fa5b",
       "version_major": 2,
       "version_minor": 0
      },
      "text/plain": [
       "\\\\stem-linux-homes\\OSL-Telescope\\data\\users\\Pipeline\\PIRATE\\2021_09_29:   0%|          | 0/42 [00:00<?, ?it/s]"
      ]
     },
     "metadata": {},
     "output_type": "display_data"
    },
    {
     "data": {
      "application/vnd.jupyter.widget-view+json": {
       "model_id": "6268987d2fbf4573beef7aa9cd0bf05a",
       "version_major": 2,
       "version_minor": 0
      },
      "text/plain": [
       "\\\\stem-linux-homes\\OSL-Telescope\\data\\users\\Pipeline\\PIRATE\\2021_10_27:   0%|          | 0/23 [00:00<?, ?it/s]"
      ]
     },
     "metadata": {},
     "output_type": "display_data"
    },
    {
     "data": {
      "application/vnd.jupyter.widget-view+json": {
       "model_id": "b9accbe939264c518f5e325b387b8209",
       "version_major": 2,
       "version_minor": 0
      },
      "text/plain": [
       "\\\\stem-linux-homes\\OSL-Telescope\\data\\users\\Pipeline\\PIRATE\\2021_10_04:   0%|          | 0/7 [00:00<?, ?it/s]"
      ]
     },
     "metadata": {},
     "output_type": "display_data"
    },
    {
     "data": {
      "application/vnd.jupyter.widget-view+json": {
       "model_id": "aa90e63cc6ca46cb9ce6c83baf5838ef",
       "version_major": 2,
       "version_minor": 0
      },
      "text/plain": [
       "\\\\stem-linux-homes\\OSL-Telescope\\data\\users\\Pipeline\\PIRATE\\2021_10_09:   0%|          | 0/14 [00:00<?, ?it/s]"
      ]
     },
     "metadata": {},
     "output_type": "display_data"
    },
    {
     "data": {
      "application/vnd.jupyter.widget-view+json": {
       "model_id": "d90340a444b241899b1fce1a0acb0816",
       "version_major": 2,
       "version_minor": 0
      },
      "text/plain": [
       "\\\\stem-linux-homes\\OSL-Telescope\\data\\users\\Pipeline\\PIRATE\\2021_10_19:   0%|          | 0/7 [00:00<?, ?it/s]"
      ]
     },
     "metadata": {},
     "output_type": "display_data"
    },
    {
     "data": {
      "application/vnd.jupyter.widget-view+json": {
       "model_id": "f86439fb8b364e2a8a74dd3fcb2687cb",
       "version_major": 2,
       "version_minor": 0
      },
      "text/plain": [
       "\\\\stem-linux-homes\\OSL-Telescope\\data\\users\\Pipeline\\PIRATE\\2021_10_30:   0%|          | 0/40 [00:00<?, ?it/s]"
      ]
     },
     "metadata": {},
     "output_type": "display_data"
    },
    {
     "data": {
      "application/vnd.jupyter.widget-view+json": {
       "model_id": "4babac71e94f4034ac9e1778192e48f1",
       "version_major": 2,
       "version_minor": 0
      },
      "text/plain": [
       "\\\\stem-linux-homes\\OSL-Telescope\\data\\users\\Pipeline\\PIRATE\\2021_10_02:   0%|          | 0/21 [00:00<?, ?it/s]"
      ]
     },
     "metadata": {},
     "output_type": "display_data"
    },
    {
     "data": {
      "application/vnd.jupyter.widget-view+json": {
       "model_id": "c84716db7fc84070a085c49ac0426aeb",
       "version_major": 2,
       "version_minor": 0
      },
      "text/plain": [
       "\\\\stem-linux-homes\\OSL-Telescope\\data\\users\\Pipeline\\PIRATE\\2021_10_10:   0%|          | 0/7 [00:00<?, ?it/s]"
      ]
     },
     "metadata": {},
     "output_type": "display_data"
    },
    {
     "data": {
      "application/vnd.jupyter.widget-view+json": {
       "model_id": "a9c4bdd1e0324bdebbd1a24545c8e5f1",
       "version_major": 2,
       "version_minor": 0
      },
      "text/plain": [
       "\\\\stem-linux-homes\\OSL-Telescope\\data\\users\\Pipeline\\PIRATE\\2021_09_09:   0%|          | 0/36 [00:00<?, ?it/s]"
      ]
     },
     "metadata": {},
     "output_type": "display_data"
    },
    {
     "data": {
      "application/vnd.jupyter.widget-view+json": {
       "model_id": "ff562f8bf52d4114bf796fe85865073e",
       "version_major": 2,
       "version_minor": 0
      },
      "text/plain": [
       "\\\\stem-linux-homes\\OSL-Telescope\\data\\users\\Pipeline\\PIRATE\\2021_09_07:   0%|          | 0/24 [00:00<?, ?it/s]"
      ]
     },
     "metadata": {},
     "output_type": "display_data"
    },
    {
     "data": {
      "application/vnd.jupyter.widget-view+json": {
       "model_id": "ac63e09c191241e6a7776aa68fce247e",
       "version_major": 2,
       "version_minor": 0
      },
      "text/plain": [
       "\\\\stem-linux-homes\\OSL-Telescope\\data\\users\\Pipeline\\PIRATE\\2021_09_22:   0%|          | 0/22 [00:00<?, ?it/s]"
      ]
     },
     "metadata": {},
     "output_type": "display_data"
    },
    {
     "data": {
      "application/vnd.jupyter.widget-view+json": {
       "model_id": "a12422c8380e42e6b0accd79ba5d96d6",
       "version_major": 2,
       "version_minor": 0
      },
      "text/plain": [
       "\\\\stem-linux-homes\\OSL-Telescope\\data\\users\\Pipeline\\PIRATE\\2021_09_17:   0%|          | 0/148 [00:00<?, ?it/s…"
      ]
     },
     "metadata": {},
     "output_type": "display_data"
    },
    {
     "data": {
      "application/vnd.jupyter.widget-view+json": {
       "model_id": "c23b0981aff441bfbbbfe7626fd9eb9e",
       "version_major": 2,
       "version_minor": 0
      },
      "text/plain": [
       "\\\\stem-linux-homes\\OSL-Telescope\\data\\users\\Pipeline\\PIRATE\\2021_09_08:   0%|          | 0/24 [00:00<?, ?it/s]"
      ]
     },
     "metadata": {},
     "output_type": "display_data"
    },
    {
     "data": {
      "application/vnd.jupyter.widget-view+json": {
       "model_id": "7fae63e9dbc242949133cf70a42d6476",
       "version_major": 2,
       "version_minor": 0
      },
      "text/plain": [
       "\\\\stem-linux-homes\\OSL-Telescope\\data\\users\\Pipeline\\PIRATE\\2021_09_24:   0%|          | 0/31 [00:00<?, ?it/s]"
      ]
     },
     "metadata": {},
     "output_type": "display_data"
    },
    {
     "data": {
      "application/vnd.jupyter.widget-view+json": {
       "model_id": "74ccd859240944d5bb31b1b936726b92",
       "version_major": 2,
       "version_minor": 0
      },
      "text/plain": [
       "\\\\stem-linux-homes\\OSL-Telescope\\data\\users\\Pipeline\\PIRATE\\2021_10_16:   0%|          | 0/5 [00:00<?, ?it/s]"
      ]
     },
     "metadata": {},
     "output_type": "display_data"
    },
    {
     "data": {
      "application/vnd.jupyter.widget-view+json": {
       "model_id": "4d0b04f77049473c9856e8880ac33bee",
       "version_major": 2,
       "version_minor": 0
      },
      "text/plain": [
       "\\\\stem-linux-homes\\OSL-Telescope\\data\\users\\Pipeline\\PIRATE\\2021_10_15:   0%|          | 0/5 [00:00<?, ?it/s]"
      ]
     },
     "metadata": {},
     "output_type": "display_data"
    },
    {
     "data": {
      "application/vnd.jupyter.widget-view+json": {
       "model_id": "f3bf7c11f2b94306a5e8f612811e6458",
       "version_major": 2,
       "version_minor": 0
      },
      "text/plain": [
       "\\\\stem-linux-homes\\OSL-Telescope\\data\\users\\Pipeline\\PIRATE\\2021_11_01:   0%|          | 0/74 [00:00<?, ?it/s]"
      ]
     },
     "metadata": {},
     "output_type": "display_data"
    },
    {
     "data": {
      "application/vnd.jupyter.widget-view+json": {
       "model_id": "0feac35b85ca4a43ac0170a097bb943d",
       "version_major": 2,
       "version_minor": 0
      },
      "text/plain": [
       "\\\\stem-linux-homes\\OSL-Telescope\\data\\users\\Pipeline\\PIRATE\\2021_10_08:   0%|          | 0/7 [00:00<?, ?it/s]"
      ]
     },
     "metadata": {},
     "output_type": "display_data"
    },
    {
     "data": {
      "application/vnd.jupyter.widget-view+json": {
       "model_id": "be63071ec41e449f9413d6248b23e5c5",
       "version_major": 2,
       "version_minor": 0
      },
      "text/plain": [
       "\\\\stem-linux-homes\\OSL-Telescope\\data\\users\\Pipeline\\PIRATE\\2021_10_22:   0%|          | 0/7 [00:00<?, ?it/s]"
      ]
     },
     "metadata": {},
     "output_type": "display_data"
    },
    {
     "data": {
      "application/vnd.jupyter.widget-view+json": {
       "model_id": "dcca9c3bee2c49408a24155310239eb9",
       "version_major": 2,
       "version_minor": 0
      },
      "text/plain": [
       "\\\\stem-linux-homes\\OSL-Telescope\\data\\users\\Pipeline\\PIRATE\\2021_10_07:   0%|          | 0/7 [00:00<?, ?it/s]"
      ]
     },
     "metadata": {},
     "output_type": "display_data"
    },
    {
     "data": {
      "application/vnd.jupyter.widget-view+json": {
       "model_id": "40fa17df86c347be98691064f4b1825a",
       "version_major": 2,
       "version_minor": 0
      },
      "text/plain": [
       "\\\\stem-linux-homes\\OSL-Telescope\\data\\users\\Pipeline\\PIRATE\\2021_09_15:   0%|          | 0/30 [00:00<?, ?it/s]"
      ]
     },
     "metadata": {},
     "output_type": "display_data"
    },
    {
     "data": {
      "application/vnd.jupyter.widget-view+json": {
       "model_id": "ac020251649d4c849f6cae25ca3e077d",
       "version_major": 2,
       "version_minor": 0
      },
      "text/plain": [
       "\\\\stem-linux-homes\\OSL-Telescope\\data\\users\\Pipeline\\PIRATE\\2021_09_10:   0%|          | 0/36 [00:00<?, ?it/s]"
      ]
     },
     "metadata": {},
     "output_type": "display_data"
    },
    {
     "data": {
      "application/vnd.jupyter.widget-view+json": {
       "model_id": "18543bd1e6f847bb8592ffaa246b6039",
       "version_major": 2,
       "version_minor": 0
      },
      "text/plain": [
       "\\\\stem-linux-homes\\OSL-Telescope\\data\\users\\Pipeline\\PIRATE\\2021_10_14:   0%|          | 0/5 [00:00<?, ?it/s]"
      ]
     },
     "metadata": {},
     "output_type": "display_data"
    },
    {
     "data": {
      "application/vnd.jupyter.widget-view+json": {
       "model_id": "cf27b610c863460f9e2d9647a1535631",
       "version_major": 2,
       "version_minor": 0
      },
      "text/plain": [
       "\\\\stem-linux-homes\\OSL-Telescope\\data\\users\\Pipeline\\PIRATE\\2021_10_21:   0%|          | 0/7 [00:00<?, ?it/s]"
      ]
     },
     "metadata": {},
     "output_type": "display_data"
    },
    {
     "data": {
      "application/vnd.jupyter.widget-view+json": {
       "model_id": "10d6874f2f9e4ecc9c48a477363fa198",
       "version_major": 2,
       "version_minor": 0
      },
      "text/plain": [
       "\\\\stem-linux-homes\\OSL-Telescope\\data\\users\\Pipeline\\PIRATE\\2021_10_29:   0%|          | 0/54 [00:00<?, ?it/s]"
      ]
     },
     "metadata": {},
     "output_type": "display_data"
    },
    {
     "data": {
      "application/vnd.jupyter.widget-view+json": {
       "model_id": "fabfcd3bd4e647c594683dc1b67513b3",
       "version_major": 2,
       "version_minor": 0
      },
      "text/plain": [
       "\\\\stem-linux-homes\\OSL-Telescope\\data\\users\\Pipeline\\PIRATE\\2021_09_23:   0%|          | 0/24 [00:00<?, ?it/s]"
      ]
     },
     "metadata": {},
     "output_type": "display_data"
    },
    {
     "data": {
      "application/vnd.jupyter.widget-view+json": {
       "model_id": "7299961c173243e29ab1febedeb627e0",
       "version_major": 2,
       "version_minor": 0
      },
      "text/plain": [
       "\\\\stem-linux-homes\\OSL-Telescope\\data\\users\\Pipeline\\PIRATE\\2021_10_31:   0%|          | 0/44 [00:00<?, ?it/s]"
      ]
     },
     "metadata": {},
     "output_type": "display_data"
    },
    {
     "data": {
      "application/vnd.jupyter.widget-view+json": {
       "model_id": "0621e662229c4c4887d53fc0c4366301",
       "version_major": 2,
       "version_minor": 0
      },
      "text/plain": [
       "\\\\stem-linux-homes\\OSL-Telescope\\data\\users\\Pipeline\\PIRATE\\2021_09_11:   0%|          | 0/7 [00:00<?, ?it/s]"
      ]
     },
     "metadata": {},
     "output_type": "display_data"
    },
    {
     "data": {
      "application/vnd.jupyter.widget-view+json": {
       "model_id": "c21eb257ffa044b89b4f1c681396c069",
       "version_major": 2,
       "version_minor": 0
      },
      "text/plain": [
       "\\\\stem-linux-homes\\OSL-Telescope\\data\\users\\Pipeline\\PIRATE\\2021_10_26:   0%|          | 0/11 [00:00<?, ?it/s]"
      ]
     },
     "metadata": {},
     "output_type": "display_data"
    },
    {
     "data": {
      "application/vnd.jupyter.widget-view+json": {
       "model_id": "ef3d49bf586043078a54561736ff06b1",
       "version_major": 2,
       "version_minor": 0
      },
      "text/plain": [
       "\\\\stem-linux-homes\\OSL-Telescope\\data\\users\\Pipeline\\PIRATE\\2021_10_05:   0%|          | 0/7 [00:00<?, ?it/s]"
      ]
     },
     "metadata": {},
     "output_type": "display_data"
    },
    {
     "data": {
      "application/vnd.jupyter.widget-view+json": {
       "model_id": "dbe59829175a4b088796d2efd5b71e07",
       "version_major": 2,
       "version_minor": 0
      },
      "text/plain": [
       "\\\\stem-linux-homes\\OSL-Telescope\\data\\users\\Pipeline\\PIRATE\\2021_11_03:   0%|          | 0/24 [00:00<?, ?it/s]"
      ]
     },
     "metadata": {},
     "output_type": "display_data"
    },
    {
     "data": {
      "application/vnd.jupyter.widget-view+json": {
       "model_id": "4b19f91582664f0891f821b0d16e12d6",
       "version_major": 2,
       "version_minor": 0
      },
      "text/plain": [
       "\\\\stem-linux-homes\\OSL-Telescope\\data\\users\\Pipeline\\PIRATE\\2021_10_18:   0%|          | 0/10 [00:00<?, ?it/s]"
      ]
     },
     "metadata": {},
     "output_type": "display_data"
    },
    {
     "data": {
      "application/vnd.jupyter.widget-view+json": {
       "model_id": "8ef3a036285c46339bff78b3f4fa9165",
       "version_major": 2,
       "version_minor": 0
      },
      "text/plain": [
       "\\\\stem-linux-homes\\OSL-Telescope\\data\\users\\Pipeline\\PIRATE\\2021_09_13:   0%|          | 0/3 [00:00<?, ?it/s]"
      ]
     },
     "metadata": {},
     "output_type": "display_data"
    },
    {
     "data": {
      "application/vnd.jupyter.widget-view+json": {
       "model_id": "ab54ce1aaa7c4a469432505dc54c7f6a",
       "version_major": 2,
       "version_minor": 0
      },
      "text/plain": [
       "\\\\stem-linux-homes\\OSL-Telescope\\data\\users\\Pipeline\\PIRATE\\2021_10_20:   0%|          | 0/7 [00:00<?, ?it/s]"
      ]
     },
     "metadata": {},
     "output_type": "display_data"
    }
   ],
   "source": [
    "new_dates = [p for p in DATA_PATH.glob('*/202?_??_??') if p not in processed_dates]\n",
    "total_dates = len(new_dates)\n",
    "obs_tables = {}\n",
    "\n",
    "SPLIT_SIZE = 10\n",
    "\n",
    "for date in tqdm(new_dates, desc='New dates'):\n",
    "    date_has_data = False\n",
    "    for catalogue in tqdm(list(date.glob('Catalogues/*_anm83_*.cat')), desc=str(date)):\n",
    "        date_has_data = True\n",
    "        name = None\n",
    "        for escaped_target_name, target_name in ESCAPED_TARGET_NAMES.items():\n",
    "            if escaped_target_name in catalogue.stem:\n",
    "                name = target_name\n",
    "                obs_meta = list(itertools.chain.from_iterable(l.split('_') for l in catalogue.stem.split(f'_{escaped_target_name}_')))\n",
    "                break\n",
    "        if name is None:\n",
    "            continue\n",
    "        obs_meta = {\n",
    "            'telescope': obs_meta[0],\n",
    "            'name': name,\n",
    "            'band': obs_meta[6][0],\n",
    "            'exposure': float(obs_meta[6][1:]),\n",
    "            'timestamp': Time(\n",
    "                dict(zip(\n",
    "                    ['year', 'month', 'day', 'hour', 'minute', 'second'],\n",
    "                    map(int, obs_meta[8:14])\n",
    "                )),\n",
    "                format='ymdhms',\n",
    "            ).jd,\n",
    "        }\n",
    "        if obs_meta['name'] not in coords:\n",
    "            try:\n",
    "                coords[obs_meta['name']] = SkyCoord.from_name(obs_meta['name'], parse=True)\n",
    "            except NameResolveError:\n",
    "                continue\n",
    "        \n",
    "        table = Table.read(catalogue, format='ascii.sextractor')\n",
    "        table.rename_column('ALPHA_J2000', 'RA')\n",
    "        table.rename_column('DELTA_J2000', 'Dec')\n",
    "        \n",
    "        table['separation'] = SkyCoord.guess_from_table(table).separation(coords[obs_meta['name']])\n",
    "        table.sort('separation') #To do: use idxmin here instead of sorting\n",
    "        target_row = table[0]\n",
    "        out_table = Table(target_row)\n",
    "        \n",
    "        # Do USNO vizier query for contents of table, then take the closest few matching rows\n",
    "        # to use for calibration\n",
    "        \n",
    "        table.rename_column('RA', '_RAJ2000')\n",
    "        table.rename_column('Dec', '_DEJ2000')\n",
    "        \n",
    "        calibration_succeeded = False\n",
    "        \n",
    "        Path(f\"data/calibration_tables/{obs_meta['name']}\").mkdir(parents=True, exist_ok=True)\n",
    "        for calibration_catalogue, calibration_catalogue_fields in CALIBRATION_CATALOGUES.items():\n",
    "            if obs_meta['band'] in calibration_catalogue_fields:\n",
    "                calibration_catalogue_path = f\"data/calibration_tables/{obs_meta['name']}/{calibration_catalogue.replace('/', '_')}_{catalogue.stem}.ecsv\"\n",
    "                try:\n",
    "                    calibration_table = Table.read(calibration_catalogue_path)\n",
    "                    calibration_succeeded = True\n",
    "                    break\n",
    "                except FileNotFoundError:\n",
    "                    table = table[table['FLAGS'] == 0]\n",
    "                    table['flux_diff'] = numpy.abs(table['FLUX_AUTO'] - target_row['FLUX_AUTO'])\n",
    "                    table.sort('flux_diff')\n",
    "                    table = table[:50]\n",
    "                    table.sort('separation')\n",
    "\n",
    "                    calibration_rows = []\n",
    "\n",
    "                    total_iterations = int(len(table) / SPLIT_SIZE) + 1\n",
    "                    for i in range(total_iterations):\n",
    "                        sources = table[i * SPLIT_SIZE : (i+1) * SPLIT_SIZE]\n",
    "                        if len(sources) == 0:\n",
    "                            continue\n",
    "                        sources = vstack([ row for row in sources if row['NUMBER'] != target_row['NUMBER'] ])\n",
    "                        catalogue_results = Vizier.query_region(sources, radius=1e-4*u.deg, catalog=calibration_catalogue)\n",
    "                        if len(catalogue_results) == 0:\n",
    "                            continue\n",
    "\n",
    "                        # Reject any sources with multiple matches\n",
    "                        catalogue_matches = unique(catalogue_results[0], '_q', keep='none')\n",
    "\n",
    "                        # To do: Reject any known variables\n",
    "\n",
    "                        for catalogue_row in catalogue_matches:\n",
    "                            calibration_rows.append(hstack([\n",
    "                                sources[int(catalogue_row['_q']) - 1],\n",
    "                                catalogue_row[[calibration_catalogue_fields[obs_meta['band']]]],\n",
    "                            ]))\n",
    "\n",
    "                        if len(calibration_rows) >= NUM_CALIBRATION_ROWS:\n",
    "                            break\n",
    "                    if len(calibration_rows) < NUM_CALIBRATION_ROWS:\n",
    "                        continue\n",
    "                    calibration_table = vstack(calibration_rows[:NUM_CALIBRATION_ROWS], metadata_conflicts='silent')\n",
    "                    calibration_table.write(\n",
    "                        calibration_catalogue_path,\n",
    "                        overwrite=True,\n",
    "                    )\n",
    "\n",
    "                calibrated_mags = (\n",
    "                    calibration_table[calibration_catalogue_fields[obs_meta['band']]] \n",
    "                    - 2.5 * numpy.log10(target_row['FLUX_AUTO'] / calibration_table['FLUX_AUTO'])\n",
    "                )\n",
    "\n",
    "                # To do: Maybe this should be a weighted average using the flux error?\n",
    "                out_table.add_columns(\n",
    "                    [\n",
    "                        numpy.mean(calibrated_mags),\n",
    "                        # Standard error as per https://www.statology.org/standard-error-of-mean-python/\n",
    "                        numpy.std(calibrated_mags, ddof=1) / numpy.sqrt(numpy.size(calibrated_mags)),\n",
    "                    ],\n",
    "                    names=['calibrated_mag', 'calibrated_mag_err'],\n",
    "                )\n",
    "                calibration_succeeded = True\n",
    "                break\n",
    "\n",
    "        if not calibration_succeeded:\n",
    "            # To do: How to handle the lack of V mags in USNO?\n",
    "            out_table.add_columns(\n",
    "                [\n",
    "                    numpy.nan,\n",
    "                    numpy.nan,\n",
    "                ],\n",
    "                names=['calibrated_mag', 'calibrated_mag_err'],\n",
    "            )\n",
    "        \n",
    "        for key, val in obs_meta.items():\n",
    "            out_table[key] = val\n",
    "        \n",
    "        if obs_meta['name'] not in obs_tables:\n",
    "            try:\n",
    "                if REPROCESS:\n",
    "                    obs_tables[obs_meta['name']] = out_table\n",
    "                    continue\n",
    "                else:\n",
    "                    obs_tables[obs_meta['name']] = Table.read(f\"data/{obs_meta['name']}.ecsv\")\n",
    "            except FileNotFoundError:\n",
    "                obs_tables[obs_meta['name']] = out_table\n",
    "                continue\n",
    "        obs_tables[obs_meta['name']] = vstack([obs_tables[obs_meta['name']], out_table])\n",
    "        \n",
    "    if not REPROCESS:\n",
    "        processed_dates[date] = date_has_data"
   ]
  },
  {
   "cell_type": "code",
   "execution_count": 7,
   "id": "03cc5012-89c8-4a60-99cd-38db9312a047",
   "metadata": {},
   "outputs": [],
   "source": [
    "for name, table in obs_tables.items():\n",
    "    table.write(f\"data/{name}.ecsv\", overwrite=True)"
   ]
  },
  {
   "cell_type": "code",
   "execution_count": 8,
   "id": "27e2fe8f-c6c6-454d-ac97-460fc5c9fdb7",
   "metadata": {},
   "outputs": [],
   "source": [
    "if not REPROCESS:\n",
    "    with open('data/processed_dates.pickle', 'wb') as processed_dates_file:\n",
    "        pickle.dump(processed_dates, processed_dates_file)"
   ]
  },
  {
   "cell_type": "code",
   "execution_count": 9,
   "id": "704b847a-dbc3-4fc2-8ce4-ecf1fe1c6dab",
   "metadata": {},
   "outputs": [],
   "source": [
    "with open('data/coords.pickle', 'wb') as coords_file:\n",
    "    pickle.dump(coords, coords_file)"
   ]
  },
  {
   "cell_type": "code",
   "execution_count": null,
   "id": "bfa27474-870e-463a-a140-7c9d777bb090",
   "metadata": {},
   "outputs": [],
   "source": []
  }
 ],
 "metadata": {
  "kernelspec": {
   "display_name": "Python 3 (ipykernel)",
   "language": "python",
   "name": "python3"
  },
  "language_info": {
   "codemirror_mode": {
    "name": "ipython",
    "version": 3
   },
   "file_extension": ".py",
   "mimetype": "text/x-python",
   "name": "python",
   "nbconvert_exporter": "python",
   "pygments_lexer": "ipython3",
   "version": "3.8.5"
  }
 },
 "nbformat": 4,
 "nbformat_minor": 5
}
