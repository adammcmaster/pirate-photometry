{
 "cells": [
  {
   "cell_type": "code",
   "execution_count": 1,
   "id": "aed1f1e4-8d87-47e0-8b29-a35abb25ffec",
   "metadata": {},
   "outputs": [],
   "source": [
    "from astropy.coordinates import SkyCoord\n",
    "from astropy.table import Table, vstack\n",
    "from astropy.time import Time\n",
    "\n",
    "from tqdm.notebook import tqdm\n",
    "\n",
    "from pathlib import Path\n",
    "\n",
    "import itertools\n",
    "import pickle\n",
    "\n",
    "from targets import ESCAPED_TARGET_NAMES\n",
    "import matching\n",
    "from calibration import calibrate"
   ]
  },
  {
   "cell_type": "code",
   "execution_count": 2,
   "id": "daf55d63-c5ba-4711-b16b-d675621dccbf",
   "metadata": {},
   "outputs": [],
   "source": [
    "DATA_PATH = Path(\"//stem-linux-homes/OSL-Telescope/data/users/Pipeline/\")\n",
    "REPROCESS = True # Set to True to reprocess previous data rather than finding new data"
   ]
  },
  {
   "cell_type": "code",
   "execution_count": 3,
   "id": "8241d12c-3c83-433d-b26c-4a04e885eac0",
   "metadata": {},
   "outputs": [],
   "source": [
    "try: \n",
    "    with open('data/processed_dates.pickle', 'rb') as processed_dates_file:\n",
    "        processed_dates = pickle.load(processed_dates_file)\n",
    "except FileNotFoundError:\n",
    "    processed_dates = {}"
   ]
  },
  {
   "cell_type": "code",
   "execution_count": 4,
   "id": "179a6a9d-13e7-4add-aea8-c9d21e59df21",
   "metadata": {},
   "outputs": [],
   "source": [
    "if REPROCESS:\n",
    "    processed_dates = [ d for d, has_data in processed_dates.items() if not has_data ]"
   ]
  },
  {
   "cell_type": "code",
   "execution_count": 5,
   "id": "28ababc2-2d96-4505-99ef-fbbcaad05afe",
   "metadata": {
    "tags": []
   },
   "outputs": [
    {
     "data": {
      "application/vnd.jupyter.widget-view+json": {
       "model_id": "90cb85408b7e4ca7b46147862251868c",
       "version_major": 2,
       "version_minor": 0
      },
      "text/plain": [
       "New dates:   0%|          | 0/57 [00:00<?, ?it/s]"
      ]
     },
     "metadata": {},
     "output_type": "display_data"
    },
    {
     "data": {
      "application/vnd.jupyter.widget-view+json": {
       "model_id": "41d766b086a845118653f6427d56dcc9",
       "version_major": 2,
       "version_minor": 0
      },
      "text/plain": [
       "\\\\stem-linux-homes\\OSL-Telescope\\data\\users\\Pipeline\\COAST\\2021_09_18:   0%|          | 0/27 [00:00<?, ?it/s]"
      ]
     },
     "metadata": {},
     "output_type": "display_data"
    },
    {
     "data": {
      "application/vnd.jupyter.widget-view+json": {
       "model_id": "1efce942a368478c90cddbc089a7d3a2",
       "version_major": 2,
       "version_minor": 0
      },
      "text/plain": [
       "\\\\stem-linux-homes\\OSL-Telescope\\data\\users\\Pipeline\\COAST\\2021_09_21:   0%|          | 0/27 [00:00<?, ?it/s]"
      ]
     },
     "metadata": {},
     "output_type": "display_data"
    },
    {
     "data": {
      "application/vnd.jupyter.widget-view+json": {
       "model_id": "40116232eae74623b6cab43415085bd8",
       "version_major": 2,
       "version_minor": 0
      },
      "text/plain": [
       "\\\\stem-linux-homes\\OSL-Telescope\\data\\users\\Pipeline\\COAST\\2021_10_28:   0%|          | 0/8 [00:00<?, ?it/s]"
      ]
     },
     "metadata": {},
     "output_type": "display_data"
    },
    {
     "data": {
      "application/vnd.jupyter.widget-view+json": {
       "model_id": "864b3097de314d5bbfcf388d6d46522f",
       "version_major": 2,
       "version_minor": 0
      },
      "text/plain": [
       "\\\\stem-linux-homes\\OSL-Telescope\\data\\users\\Pipeline\\COAST\\2021_10_29:   0%|          | 0/8 [00:00<?, ?it/s]"
      ]
     },
     "metadata": {},
     "output_type": "display_data"
    },
    {
     "data": {
      "application/vnd.jupyter.widget-view+json": {
       "model_id": "cf9e0534534848b38117fa11eec59fbb",
       "version_major": 2,
       "version_minor": 0
      },
      "text/plain": [
       "\\\\stem-linux-homes\\OSL-Telescope\\data\\users\\Pipeline\\COAST\\2021_10_30:   0%|          | 0/15 [00:00<?, ?it/s]"
      ]
     },
     "metadata": {},
     "output_type": "display_data"
    },
    {
     "data": {
      "application/vnd.jupyter.widget-view+json": {
       "model_id": "6f958c14efe04788a2e99f80b724d58c",
       "version_major": 2,
       "version_minor": 0
      },
      "text/plain": [
       "\\\\stem-linux-homes\\OSL-Telescope\\data\\users\\Pipeline\\COAST\\2021_10_31:   0%|          | 0/29 [00:00<?, ?it/s]"
      ]
     },
     "metadata": {},
     "output_type": "display_data"
    },
    {
     "data": {
      "application/vnd.jupyter.widget-view+json": {
       "model_id": "bea3f21a50e74130ba54412d03c6206f",
       "version_major": 2,
       "version_minor": 0
      },
      "text/plain": [
       "\\\\stem-linux-homes\\OSL-Telescope\\data\\users\\Pipeline\\COAST\\2021_11_02:   0%|          | 0/6 [00:00<?, ?it/s]"
      ]
     },
     "metadata": {},
     "output_type": "display_data"
    },
    {
     "data": {
      "application/vnd.jupyter.widget-view+json": {
       "model_id": "852c3a66edf54ec185b57a8ed46ed92e",
       "version_major": 2,
       "version_minor": 0
      },
      "text/plain": [
       "\\\\stem-linux-homes\\OSL-Telescope\\data\\users\\Pipeline\\COAST\\2021_11_03:   0%|          | 0/19 [00:00<?, ?it/s]"
      ]
     },
     "metadata": {},
     "output_type": "display_data"
    },
    {
     "data": {
      "application/vnd.jupyter.widget-view+json": {
       "model_id": "b73bc44542bb4c069eaac8ccccaceb71",
       "version_major": 2,
       "version_minor": 0
      },
      "text/plain": [
       "\\\\stem-linux-homes\\OSL-Telescope\\data\\users\\Pipeline\\COAST\\2021_11_05:   0%|          | 0/14 [00:00<?, ?it/s]"
      ]
     },
     "metadata": {},
     "output_type": "display_data"
    },
    {
     "data": {
      "application/vnd.jupyter.widget-view+json": {
       "model_id": "bde346c8c1494f17917d8720d8900a9c",
       "version_major": 2,
       "version_minor": 0
      },
      "text/plain": [
       "\\\\stem-linux-homes\\OSL-Telescope\\data\\users\\Pipeline\\COAST\\2021_11_06:   0%|          | 0/19 [00:00<?, ?it/s]"
      ]
     },
     "metadata": {},
     "output_type": "display_data"
    },
    {
     "data": {
      "application/vnd.jupyter.widget-view+json": {
       "model_id": "c99c996aface493580d1c6dd723ec508",
       "version_major": 2,
       "version_minor": 0
      },
      "text/plain": [
       "\\\\stem-linux-homes\\OSL-Telescope\\data\\users\\Pipeline\\COAST\\2021_11_08:   0%|          | 0/6 [00:00<?, ?it/s]"
      ]
     },
     "metadata": {},
     "output_type": "display_data"
    },
    {
     "data": {
      "application/vnd.jupyter.widget-view+json": {
       "model_id": "9009aa5269ff41a8a19338f297fdc8f8",
       "version_major": 2,
       "version_minor": 0
      },
      "text/plain": [
       "\\\\stem-linux-homes\\OSL-Telescope\\data\\users\\Pipeline\\COAST\\2021_11_09:   0%|          | 0/18 [00:00<?, ?it/s]"
      ]
     },
     "metadata": {},
     "output_type": "display_data"
    },
    {
     "data": {
      "application/vnd.jupyter.widget-view+json": {
       "model_id": "9a0fa5dc92ae49b690c0d1f2eb7fe2cf",
       "version_major": 2,
       "version_minor": 0
      },
      "text/plain": [
       "\\\\stem-linux-homes\\OSL-Telescope\\data\\users\\Pipeline\\PIRATE\\2021_09_18:   0%|          | 0/104 [00:00<?, ?it/s…"
      ]
     },
     "metadata": {},
     "output_type": "display_data"
    },
    {
     "data": {
      "application/vnd.jupyter.widget-view+json": {
       "model_id": "5b38ac8b1c28424880611039541104c3",
       "version_major": 2,
       "version_minor": 0
      },
      "text/plain": [
       "\\\\stem-linux-homes\\OSL-Telescope\\data\\users\\Pipeline\\PIRATE\\2021_09_21:   0%|          | 0/27 [00:00<?, ?it/s]"
      ]
     },
     "metadata": {},
     "output_type": "display_data"
    },
    {
     "data": {
      "application/vnd.jupyter.widget-view+json": {
       "model_id": "feaac837b335400692799775fe4475a5",
       "version_major": 2,
       "version_minor": 0
      },
      "text/plain": [
       "\\\\stem-linux-homes\\OSL-Telescope\\data\\users\\Pipeline\\PIRATE\\2021_11_02:   0%|          | 0/1 [00:00<?, ?it/s]"
      ]
     },
     "metadata": {},
     "output_type": "display_data"
    },
    {
     "data": {
      "application/vnd.jupyter.widget-view+json": {
       "model_id": "b028056bd0394e248b3c612e828b62d0",
       "version_major": 2,
       "version_minor": 0
      },
      "text/plain": [
       "\\\\stem-linux-homes\\OSL-Telescope\\data\\users\\Pipeline\\PIRATE\\2021_10_03:   0%|          | 0/7 [00:00<?, ?it/s]"
      ]
     },
     "metadata": {},
     "output_type": "display_data"
    },
    {
     "data": {
      "application/vnd.jupyter.widget-view+json": {
       "model_id": "74d88686ea5a4ae8831b656bf6dcb9d4",
       "version_major": 2,
       "version_minor": 0
      },
      "text/plain": [
       "\\\\stem-linux-homes\\OSL-Telescope\\data\\users\\Pipeline\\PIRATE\\2021_09_30:   0%|          | 0/13 [00:00<?, ?it/s]"
      ]
     },
     "metadata": {},
     "output_type": "display_data"
    },
    {
     "data": {
      "application/vnd.jupyter.widget-view+json": {
       "model_id": "fe4605e5325f443a91d6521e2d2e7823",
       "version_major": 2,
       "version_minor": 0
      },
      "text/plain": [
       "\\\\stem-linux-homes\\OSL-Telescope\\data\\users\\Pipeline\\PIRATE\\2021_10_01:   0%|          | 0/24 [00:00<?, ?it/s]"
      ]
     },
     "metadata": {},
     "output_type": "display_data"
    },
    {
     "data": {
      "application/vnd.jupyter.widget-view+json": {
       "model_id": "ec6c5a0a758f4ee88f4481da71fb875c",
       "version_major": 2,
       "version_minor": 0
      },
      "text/plain": [
       "\\\\stem-linux-homes\\OSL-Telescope\\data\\users\\Pipeline\\PIRATE\\2021_09_29:   0%|          | 0/42 [00:00<?, ?it/s]"
      ]
     },
     "metadata": {},
     "output_type": "display_data"
    },
    {
     "data": {
      "application/vnd.jupyter.widget-view+json": {
       "model_id": "b6a95ec81df642f7963e84053360137f",
       "version_major": 2,
       "version_minor": 0
      },
      "text/plain": [
       "\\\\stem-linux-homes\\OSL-Telescope\\data\\users\\Pipeline\\PIRATE\\2021_10_27:   0%|          | 0/23 [00:00<?, ?it/s]"
      ]
     },
     "metadata": {},
     "output_type": "display_data"
    },
    {
     "data": {
      "application/vnd.jupyter.widget-view+json": {
       "model_id": "7e16f8aef43643ffa58994e709a6f6bd",
       "version_major": 2,
       "version_minor": 0
      },
      "text/plain": [
       "\\\\stem-linux-homes\\OSL-Telescope\\data\\users\\Pipeline\\PIRATE\\2021_11_06:   0%|          | 0/31 [00:00<?, ?it/s]"
      ]
     },
     "metadata": {},
     "output_type": "display_data"
    },
    {
     "data": {
      "application/vnd.jupyter.widget-view+json": {
       "model_id": "43186b35f387405e91f508f482d25c33",
       "version_major": 2,
       "version_minor": 0
      },
      "text/plain": [
       "\\\\stem-linux-homes\\OSL-Telescope\\data\\users\\Pipeline\\PIRATE\\2021_10_04:   0%|          | 0/7 [00:00<?, ?it/s]"
      ]
     },
     "metadata": {},
     "output_type": "display_data"
    },
    {
     "data": {
      "application/vnd.jupyter.widget-view+json": {
       "model_id": "31f4d6ff883940d7a0ab6640f381a772",
       "version_major": 2,
       "version_minor": 0
      },
      "text/plain": [
       "\\\\stem-linux-homes\\OSL-Telescope\\data\\users\\Pipeline\\PIRATE\\2021_10_09:   0%|          | 0/14 [00:00<?, ?it/s]"
      ]
     },
     "metadata": {},
     "output_type": "display_data"
    },
    {
     "data": {
      "application/vnd.jupyter.widget-view+json": {
       "model_id": "a375c1771f6e4338930c92818f538c66",
       "version_major": 2,
       "version_minor": 0
      },
      "text/plain": [
       "\\\\stem-linux-homes\\OSL-Telescope\\data\\users\\Pipeline\\PIRATE\\2021_10_19:   0%|          | 0/7 [00:00<?, ?it/s]"
      ]
     },
     "metadata": {},
     "output_type": "display_data"
    },
    {
     "data": {
      "application/vnd.jupyter.widget-view+json": {
       "model_id": "948ea7aee18a4bad80803e1b85b746ff",
       "version_major": 2,
       "version_minor": 0
      },
      "text/plain": [
       "\\\\stem-linux-homes\\OSL-Telescope\\data\\users\\Pipeline\\PIRATE\\2021_10_30:   0%|          | 0/40 [00:00<?, ?it/s]"
      ]
     },
     "metadata": {},
     "output_type": "display_data"
    },
    {
     "data": {
      "application/vnd.jupyter.widget-view+json": {
       "model_id": "006be4746d6c46f985e63796168da5e8",
       "version_major": 2,
       "version_minor": 0
      },
      "text/plain": [
       "\\\\stem-linux-homes\\OSL-Telescope\\data\\users\\Pipeline\\PIRATE\\2021_10_02:   0%|          | 0/21 [00:00<?, ?it/s]"
      ]
     },
     "metadata": {},
     "output_type": "display_data"
    },
    {
     "data": {
      "application/vnd.jupyter.widget-view+json": {
       "model_id": "2ea8376b363c429c8df090f5504c1c53",
       "version_major": 2,
       "version_minor": 0
      },
      "text/plain": [
       "\\\\stem-linux-homes\\OSL-Telescope\\data\\users\\Pipeline\\PIRATE\\2021_10_10:   0%|          | 0/7 [00:00<?, ?it/s]"
      ]
     },
     "metadata": {},
     "output_type": "display_data"
    },
    {
     "data": {
      "application/vnd.jupyter.widget-view+json": {
       "model_id": "bbb3add86143497d8fcf9fdc68cfb664",
       "version_major": 2,
       "version_minor": 0
      },
      "text/plain": [
       "\\\\stem-linux-homes\\OSL-Telescope\\data\\users\\Pipeline\\PIRATE\\2021_09_09:   0%|          | 0/36 [00:00<?, ?it/s]"
      ]
     },
     "metadata": {},
     "output_type": "display_data"
    },
    {
     "data": {
      "application/vnd.jupyter.widget-view+json": {
       "model_id": "307ebcd7e5f54c30835bf5d93048ec55",
       "version_major": 2,
       "version_minor": 0
      },
      "text/plain": [
       "\\\\stem-linux-homes\\OSL-Telescope\\data\\users\\Pipeline\\PIRATE\\2021_11_08:   0%|          | 0/22 [00:00<?, ?it/s]"
      ]
     },
     "metadata": {},
     "output_type": "display_data"
    },
    {
     "data": {
      "application/vnd.jupyter.widget-view+json": {
       "model_id": "f970fcf4db7444f99077b38ee0d131af",
       "version_major": 2,
       "version_minor": 0
      },
      "text/plain": [
       "\\\\stem-linux-homes\\OSL-Telescope\\data\\users\\Pipeline\\PIRATE\\2021_09_07:   0%|          | 0/24 [00:00<?, ?it/s]"
      ]
     },
     "metadata": {},
     "output_type": "display_data"
    },
    {
     "data": {
      "application/vnd.jupyter.widget-view+json": {
       "model_id": "35f4506606674b5ebf30db140e53b62c",
       "version_major": 2,
       "version_minor": 0
      },
      "text/plain": [
       "\\\\stem-linux-homes\\OSL-Telescope\\data\\users\\Pipeline\\PIRATE\\2021_09_22:   0%|          | 0/22 [00:00<?, ?it/s]"
      ]
     },
     "metadata": {},
     "output_type": "display_data"
    },
    {
     "data": {
      "application/vnd.jupyter.widget-view+json": {
       "model_id": "fc3023469a5d488c865f4d726bcc470e",
       "version_major": 2,
       "version_minor": 0
      },
      "text/plain": [
       "\\\\stem-linux-homes\\OSL-Telescope\\data\\users\\Pipeline\\PIRATE\\2021_11_09:   0%|          | 0/4 [00:00<?, ?it/s]"
      ]
     },
     "metadata": {},
     "output_type": "display_data"
    },
    {
     "data": {
      "application/vnd.jupyter.widget-view+json": {
       "model_id": "eeae9e89c0e04f8387f7bcba230374e5",
       "version_major": 2,
       "version_minor": 0
      },
      "text/plain": [
       "\\\\stem-linux-homes\\OSL-Telescope\\data\\users\\Pipeline\\PIRATE\\2021_11_05:   0%|          | 0/19 [00:00<?, ?it/s]"
      ]
     },
     "metadata": {},
     "output_type": "display_data"
    },
    {
     "data": {
      "application/vnd.jupyter.widget-view+json": {
       "model_id": "2c5ce8a188674b5fa98a963865fc7ce7",
       "version_major": 2,
       "version_minor": 0
      },
      "text/plain": [
       "\\\\stem-linux-homes\\OSL-Telescope\\data\\users\\Pipeline\\PIRATE\\2021_09_17:   0%|          | 0/148 [00:00<?, ?it/s…"
      ]
     },
     "metadata": {},
     "output_type": "display_data"
    },
    {
     "data": {
      "application/vnd.jupyter.widget-view+json": {
       "model_id": "e810cf55d1bf4f61a529669905ff3f81",
       "version_major": 2,
       "version_minor": 0
      },
      "text/plain": [
       "\\\\stem-linux-homes\\OSL-Telescope\\data\\users\\Pipeline\\PIRATE\\2021_09_08:   0%|          | 0/24 [00:00<?, ?it/s]"
      ]
     },
     "metadata": {},
     "output_type": "display_data"
    },
    {
     "data": {
      "application/vnd.jupyter.widget-view+json": {
       "model_id": "3a36656370fb4a12a3fa0da58b128578",
       "version_major": 2,
       "version_minor": 0
      },
      "text/plain": [
       "\\\\stem-linux-homes\\OSL-Telescope\\data\\users\\Pipeline\\PIRATE\\2021_09_24:   0%|          | 0/31 [00:00<?, ?it/s]"
      ]
     },
     "metadata": {},
     "output_type": "display_data"
    },
    {
     "data": {
      "application/vnd.jupyter.widget-view+json": {
       "model_id": "f18b8a1119c2445a8745ed911c166171",
       "version_major": 2,
       "version_minor": 0
      },
      "text/plain": [
       "\\\\stem-linux-homes\\OSL-Telescope\\data\\users\\Pipeline\\PIRATE\\2021_10_16:   0%|          | 0/5 [00:00<?, ?it/s]"
      ]
     },
     "metadata": {},
     "output_type": "display_data"
    },
    {
     "data": {
      "application/vnd.jupyter.widget-view+json": {
       "model_id": "1d05f6eaf411435c99a92669ba36c0ec",
       "version_major": 2,
       "version_minor": 0
      },
      "text/plain": [
       "\\\\stem-linux-homes\\OSL-Telescope\\data\\users\\Pipeline\\PIRATE\\2021_10_15:   0%|          | 0/5 [00:00<?, ?it/s]"
      ]
     },
     "metadata": {},
     "output_type": "display_data"
    },
    {
     "data": {
      "application/vnd.jupyter.widget-view+json": {
       "model_id": "532affd6472840e6a451229428ec9b41",
       "version_major": 2,
       "version_minor": 0
      },
      "text/plain": [
       "\\\\stem-linux-homes\\OSL-Telescope\\data\\users\\Pipeline\\PIRATE\\2021_11_01:   0%|          | 0/74 [00:00<?, ?it/s]"
      ]
     },
     "metadata": {},
     "output_type": "display_data"
    },
    {
     "data": {
      "application/vnd.jupyter.widget-view+json": {
       "model_id": "80a70a16db5f47fa896690a12b40d6cb",
       "version_major": 2,
       "version_minor": 0
      },
      "text/plain": [
       "\\\\stem-linux-homes\\OSL-Telescope\\data\\users\\Pipeline\\PIRATE\\2021_10_08:   0%|          | 0/7 [00:00<?, ?it/s]"
      ]
     },
     "metadata": {},
     "output_type": "display_data"
    },
    {
     "data": {
      "application/vnd.jupyter.widget-view+json": {
       "model_id": "39d528a8fb8746d895fdbe4fd20178ab",
       "version_major": 2,
       "version_minor": 0
      },
      "text/plain": [
       "\\\\stem-linux-homes\\OSL-Telescope\\data\\users\\Pipeline\\PIRATE\\2021_10_22:   0%|          | 0/7 [00:00<?, ?it/s]"
      ]
     },
     "metadata": {},
     "output_type": "display_data"
    },
    {
     "data": {
      "application/vnd.jupyter.widget-view+json": {
       "model_id": "7bd429cb1a1a4063b38dddabca53b11a",
       "version_major": 2,
       "version_minor": 0
      },
      "text/plain": [
       "\\\\stem-linux-homes\\OSL-Telescope\\data\\users\\Pipeline\\PIRATE\\2021_10_07:   0%|          | 0/7 [00:00<?, ?it/s]"
      ]
     },
     "metadata": {},
     "output_type": "display_data"
    },
    {
     "data": {
      "application/vnd.jupyter.widget-view+json": {
       "model_id": "839371d393be45c8b810385d352f2757",
       "version_major": 2,
       "version_minor": 0
      },
      "text/plain": [
       "\\\\stem-linux-homes\\OSL-Telescope\\data\\users\\Pipeline\\PIRATE\\2021_09_15:   0%|          | 0/30 [00:00<?, ?it/s]"
      ]
     },
     "metadata": {},
     "output_type": "display_data"
    },
    {
     "data": {
      "application/vnd.jupyter.widget-view+json": {
       "model_id": "64d0be221d974baa9745bf4dde2eb9c6",
       "version_major": 2,
       "version_minor": 0
      },
      "text/plain": [
       "\\\\stem-linux-homes\\OSL-Telescope\\data\\users\\Pipeline\\PIRATE\\2021_09_10:   0%|          | 0/36 [00:00<?, ?it/s]"
      ]
     },
     "metadata": {},
     "output_type": "display_data"
    },
    {
     "data": {
      "application/vnd.jupyter.widget-view+json": {
       "model_id": "0576706346944249aa0c0221f2c9031d",
       "version_major": 2,
       "version_minor": 0
      },
      "text/plain": [
       "\\\\stem-linux-homes\\OSL-Telescope\\data\\users\\Pipeline\\PIRATE\\2021_10_14:   0%|          | 0/5 [00:00<?, ?it/s]"
      ]
     },
     "metadata": {},
     "output_type": "display_data"
    },
    {
     "data": {
      "application/vnd.jupyter.widget-view+json": {
       "model_id": "81e0e55379a844888737e72b0788f4e7",
       "version_major": 2,
       "version_minor": 0
      },
      "text/plain": [
       "\\\\stem-linux-homes\\OSL-Telescope\\data\\users\\Pipeline\\PIRATE\\2021_10_21:   0%|          | 0/7 [00:00<?, ?it/s]"
      ]
     },
     "metadata": {},
     "output_type": "display_data"
    },
    {
     "data": {
      "application/vnd.jupyter.widget-view+json": {
       "model_id": "e334dc6ef2a4404f911140776e6a773d",
       "version_major": 2,
       "version_minor": 0
      },
      "text/plain": [
       "\\\\stem-linux-homes\\OSL-Telescope\\data\\users\\Pipeline\\PIRATE\\2021_10_29:   0%|          | 0/54 [00:00<?, ?it/s]"
      ]
     },
     "metadata": {},
     "output_type": "display_data"
    },
    {
     "data": {
      "application/vnd.jupyter.widget-view+json": {
       "model_id": "70f79365be4346c1ae58bbf0aadcfce2",
       "version_major": 2,
       "version_minor": 0
      },
      "text/plain": [
       "\\\\stem-linux-homes\\OSL-Telescope\\data\\users\\Pipeline\\PIRATE\\2021_09_23:   0%|          | 0/24 [00:00<?, ?it/s]"
      ]
     },
     "metadata": {},
     "output_type": "display_data"
    },
    {
     "data": {
      "application/vnd.jupyter.widget-view+json": {
       "model_id": "9bf6bbb0b6e64e53b1639481facee581",
       "version_major": 2,
       "version_minor": 0
      },
      "text/plain": [
       "\\\\stem-linux-homes\\OSL-Telescope\\data\\users\\Pipeline\\PIRATE\\2021_10_31:   0%|          | 0/44 [00:00<?, ?it/s]"
      ]
     },
     "metadata": {},
     "output_type": "display_data"
    },
    {
     "data": {
      "application/vnd.jupyter.widget-view+json": {
       "model_id": "cb2fd2fee40b4a769bd2ffa877918151",
       "version_major": 2,
       "version_minor": 0
      },
      "text/plain": [
       "\\\\stem-linux-homes\\OSL-Telescope\\data\\users\\Pipeline\\PIRATE\\2021_09_11:   0%|          | 0/7 [00:00<?, ?it/s]"
      ]
     },
     "metadata": {},
     "output_type": "display_data"
    },
    {
     "data": {
      "application/vnd.jupyter.widget-view+json": {
       "model_id": "e6573f015ef044eda982188780f1aa29",
       "version_major": 2,
       "version_minor": 0
      },
      "text/plain": [
       "\\\\stem-linux-homes\\OSL-Telescope\\data\\users\\Pipeline\\PIRATE\\2021_11_07:   0%|          | 0/54 [00:00<?, ?it/s]"
      ]
     },
     "metadata": {},
     "output_type": "display_data"
    },
    {
     "data": {
      "application/vnd.jupyter.widget-view+json": {
       "model_id": "7372ac2c512149e5ac85f9e03b629468",
       "version_major": 2,
       "version_minor": 0
      },
      "text/plain": [
       "\\\\stem-linux-homes\\OSL-Telescope\\data\\users\\Pipeline\\PIRATE\\2021_10_26:   0%|          | 0/11 [00:00<?, ?it/s]"
      ]
     },
     "metadata": {},
     "output_type": "display_data"
    },
    {
     "data": {
      "application/vnd.jupyter.widget-view+json": {
       "model_id": "5ce58f2340d947e9ac9cb5c41c8e9d3c",
       "version_major": 2,
       "version_minor": 0
      },
      "text/plain": [
       "\\\\stem-linux-homes\\OSL-Telescope\\data\\users\\Pipeline\\PIRATE\\2021_10_05:   0%|          | 0/7 [00:00<?, ?it/s]"
      ]
     },
     "metadata": {},
     "output_type": "display_data"
    },
    {
     "data": {
      "application/vnd.jupyter.widget-view+json": {
       "model_id": "3eca9fda71534188b8e0ffb2e202f99b",
       "version_major": 2,
       "version_minor": 0
      },
      "text/plain": [
       "\\\\stem-linux-homes\\OSL-Telescope\\data\\users\\Pipeline\\PIRATE\\2021_11_03:   0%|          | 0/24 [00:00<?, ?it/s]"
      ]
     },
     "metadata": {},
     "output_type": "display_data"
    },
    {
     "data": {
      "application/vnd.jupyter.widget-view+json": {
       "model_id": "c6753f978f6644aaa8307fa8e058f63b",
       "version_major": 2,
       "version_minor": 0
      },
      "text/plain": [
       "\\\\stem-linux-homes\\OSL-Telescope\\data\\users\\Pipeline\\PIRATE\\2021_10_18:   0%|          | 0/10 [00:00<?, ?it/s]"
      ]
     },
     "metadata": {},
     "output_type": "display_data"
    },
    {
     "data": {
      "application/vnd.jupyter.widget-view+json": {
       "model_id": "82ddbf9eccdf40b09d2793d9ab919a9a",
       "version_major": 2,
       "version_minor": 0
      },
      "text/plain": [
       "\\\\stem-linux-homes\\OSL-Telescope\\data\\users\\Pipeline\\PIRATE\\2021_09_13:   0%|          | 0/3 [00:00<?, ?it/s]"
      ]
     },
     "metadata": {},
     "output_type": "display_data"
    },
    {
     "data": {
      "application/vnd.jupyter.widget-view+json": {
       "model_id": "ed527814628d45c18528906c6688bd8a",
       "version_major": 2,
       "version_minor": 0
      },
      "text/plain": [
       "\\\\stem-linux-homes\\OSL-Telescope\\data\\users\\Pipeline\\PIRATE\\2021_10_20:   0%|          | 0/7 [00:00<?, ?it/s]"
      ]
     },
     "metadata": {},
     "output_type": "display_data"
    }
   ],
   "source": [
    "new_dates = [p for p in DATA_PATH.glob('*/202?_??_??') if p not in processed_dates]\n",
    "total_dates = len(new_dates)\n",
    "obs_tables = {}\n",
    "\n",
    "for date in tqdm(new_dates, desc='New dates'):\n",
    "    date_has_data = False\n",
    "    for obs_catalogue in tqdm(list(date.glob('Catalogues/*_anm83_*.cat')), desc=str(date)):\n",
    "        date_has_data = True\n",
    "        name = None\n",
    "        for escaped_target_name, target_name in ESCAPED_TARGET_NAMES.items():\n",
    "            if escaped_target_name in obs_catalogue.stem:\n",
    "                name = target_name\n",
    "                obs_meta = list(itertools.chain.from_iterable(l.split('_') for l in obs_catalogue.stem.split(f'_{escaped_target_name}_')))\n",
    "                break\n",
    "        if name is None:\n",
    "            continue\n",
    "        obs_meta = {\n",
    "            'telescope': obs_meta[0],\n",
    "            'main target': name,\n",
    "            'band': obs_meta[6][0],\n",
    "            'exposure': float(obs_meta[6][1:]),\n",
    "            'timestamp': Time(\n",
    "                dict(zip(\n",
    "                    ['year', 'month', 'day', 'hour', 'minute', 'second'],\n",
    "                    map(int, obs_meta[8:14])\n",
    "                )),\n",
    "                format='ymdhms',\n",
    "            ).jd,\n",
    "        }\n",
    "\n",
    "        try:\n",
    "            Path(f\"data/obs_catalogues/\").mkdir(parents=True, exist_ok=True)\n",
    "            table = Table.read(f'data/obs_catalogues/{obs_catalogue.stem}.ecsv')\n",
    "        except FileNotFoundError:\n",
    "            table = Table.read(obs_catalogue, format='ascii.sextractor')\n",
    "            table.write(f'data/obs_catalogues/{obs_catalogue.stem}.ecsv')\n",
    "        table.rename_column('ALPHA_J2000', 'RA')\n",
    "        table.rename_column('DELTA_J2000', 'Dec')\n",
    "\n",
    "        matching.match_targets(table)\n",
    "        table.rename_column('RA', '_RAJ2000')\n",
    "        table.rename_column('Dec', '_DEJ2000')\n",
    "        matched_targets = table[~table['matched target'].mask]\n",
    "        \n",
    "        for target_row in matched_targets:\n",
    "            out_table = calibrate(target_row, obs_meta, table)\n",
    " \n",
    "            for key, val in obs_meta.items():\n",
    "                out_table[key] = val\n",
    "\n",
    "            if target_row['matched target'] not in obs_tables:\n",
    "                try:\n",
    "                    if REPROCESS:\n",
    "                        obs_tables[target_row['matched target']] = out_table\n",
    "                        continue\n",
    "                    else:\n",
    "                        obs_tables[target_row['matched target']] = Table.read(f\"data/{target_row['matched target']}.ecsv\")\n",
    "                except FileNotFoundError:\n",
    "                    obs_tables[target_row['matched target']] = out_table\n",
    "                    continue\n",
    "            obs_tables[target_row['matched target']] = vstack([obs_tables[target_row['matched target']], out_table])\n",
    "        \n",
    "    if not REPROCESS:\n",
    "        processed_dates[date] = date_has_data"
   ]
  },
  {
   "cell_type": "code",
   "execution_count": 6,
   "id": "03cc5012-89c8-4a60-99cd-38db9312a047",
   "metadata": {},
   "outputs": [],
   "source": [
    "for name, table in obs_tables.items():\n",
    "    table.write(f\"data/{name}.ecsv\", overwrite=True)"
   ]
  },
  {
   "cell_type": "code",
   "execution_count": 7,
   "id": "27e2fe8f-c6c6-454d-ac97-460fc5c9fdb7",
   "metadata": {},
   "outputs": [],
   "source": [
    "if not REPROCESS:\n",
    "    with open('data/processed_dates.pickle', 'wb') as processed_dates_file:\n",
    "        pickle.dump(processed_dates, processed_dates_file)"
   ]
  }
 ],
 "metadata": {
  "kernelspec": {
   "display_name": "Python 3 (ipykernel)",
   "language": "python",
   "name": "python3"
  },
  "language_info": {
   "codemirror_mode": {
    "name": "ipython",
    "version": 3
   },
   "file_extension": ".py",
   "mimetype": "text/x-python",
   "name": "python",
   "nbconvert_exporter": "python",
   "pygments_lexer": "ipython3",
   "version": "3.8.5"
  }
 },
 "nbformat": 4,
 "nbformat_minor": 5
}
