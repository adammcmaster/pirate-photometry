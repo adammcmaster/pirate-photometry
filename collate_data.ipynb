{
 "cells": [
  {
   "cell_type": "code",
   "execution_count": 1,
   "id": "aed1f1e4-8d87-47e0-8b29-a35abb25ffec",
   "metadata": {},
   "outputs": [],
   "source": [
    "from astropy.coordinates import SkyCoord\n",
    "from astropy.coordinates.name_resolve import NameResolveError\n",
    "from astropy.table import Table, Row, vstack, unique, hstack\n",
    "from astropy.time import Time\n",
    "from astropy import units as u\n",
    "\n",
    "from astroquery.vizier import Vizier\n",
    "\n",
    "import numpy\n",
    "\n",
    "from scipy.spatial.distance import cdist\n",
    "from tqdm.notebook import tqdm\n",
    "\n",
    "from pathlib import Path\n",
    "\n",
    "import itertools\n",
    "import pickle\n",
    "\n",
    "from targets import ESCAPED_TARGET_NAMES\n",
    "import matching"
   ]
  },
  {
   "cell_type": "code",
   "execution_count": 2,
   "id": "daf55d63-c5ba-4711-b16b-d675621dccbf",
   "metadata": {},
   "outputs": [],
   "source": [
    "DATA_PATH = Path(\"//stem-linux-homes/OSL-Telescope/data/users/Pipeline/\")\n",
    "NUM_CALIBRATION_ROWS = 10\n",
    "CALIBRATION_CATALOGUES = {\n",
    "    'I/284/out': {\n",
    "        'B': 'B1mag',\n",
    "        'R': 'R1mag',\n",
    "        'I': 'Imag',\n",
    "    },\n",
    "    'I/297/out': {\n",
    "        'B': 'Bmag',\n",
    "        'V': 'Vmag',\n",
    "        'R': 'Rmag',\n",
    "    },\n",
    "    'VI/135/table15': {\n",
    "        'B': 'BTmag',\n",
    "        'V': 'VTmag',\n",
    "    },\n",
    "    'II/339/uvotssc1': {\n",
    "        'U': 'Umag',\n",
    "        'B': 'Bmag',\n",
    "        'V': 'Vmag',\n",
    "    }\n",
    "}\n",
    "REPROCESS = True # Set to True to reprocess previous data rather than finding new data"
   ]
  },
  {
   "cell_type": "code",
   "execution_count": 3,
   "id": "8241d12c-3c83-433d-b26c-4a04e885eac0",
   "metadata": {},
   "outputs": [],
   "source": [
    "try: \n",
    "    with open('data/processed_dates.pickle', 'rb') as processed_dates_file:\n",
    "        processed_dates = pickle.load(processed_dates_file)\n",
    "except FileNotFoundError:\n",
    "    processed_dates = {}"
   ]
  },
  {
   "cell_type": "code",
   "execution_count": 4,
   "id": "179a6a9d-13e7-4add-aea8-c9d21e59df21",
   "metadata": {},
   "outputs": [],
   "source": [
    "if REPROCESS:\n",
    "    processed_dates = [ d for d, has_data in processed_dates.items() if not has_data ]"
   ]
  },
  {
   "cell_type": "code",
   "execution_count": 5,
   "id": "28ababc2-2d96-4505-99ef-fbbcaad05afe",
   "metadata": {
    "tags": []
   },
   "outputs": [
    {
     "data": {
      "application/vnd.jupyter.widget-view+json": {
       "model_id": "4a18c3be00c84200a226219424060c52",
       "version_major": 2,
       "version_minor": 0
      },
      "text/plain": [
       "New dates:   0%|          | 0/57 [00:00<?, ?it/s]"
      ]
     },
     "metadata": {},
     "output_type": "display_data"
    },
    {
     "data": {
      "application/vnd.jupyter.widget-view+json": {
       "model_id": "fd3825d046914af09cfbcde89bed6114",
       "version_major": 2,
       "version_minor": 0
      },
      "text/plain": [
       "\\\\stem-linux-homes\\OSL-Telescope\\data\\users\\Pipeline\\COAST\\2021_09_18:   0%|          | 0/27 [00:00<?, ?it/s]"
      ]
     },
     "metadata": {},
     "output_type": "display_data"
    },
    {
     "data": {
      "application/vnd.jupyter.widget-view+json": {
       "model_id": "56b618437a5d4c25b6d5f05bbc8e7654",
       "version_major": 2,
       "version_minor": 0
      },
      "text/plain": [
       "\\\\stem-linux-homes\\OSL-Telescope\\data\\users\\Pipeline\\COAST\\2021_09_21:   0%|          | 0/27 [00:00<?, ?it/s]"
      ]
     },
     "metadata": {},
     "output_type": "display_data"
    },
    {
     "data": {
      "application/vnd.jupyter.widget-view+json": {
       "model_id": "f407cb38ad7e4e128f2c7179a5be6d18",
       "version_major": 2,
       "version_minor": 0
      },
      "text/plain": [
       "\\\\stem-linux-homes\\OSL-Telescope\\data\\users\\Pipeline\\COAST\\2021_10_28:   0%|          | 0/8 [00:00<?, ?it/s]"
      ]
     },
     "metadata": {},
     "output_type": "display_data"
    },
    {
     "data": {
      "application/vnd.jupyter.widget-view+json": {
       "model_id": "bc2faa36aba145a3a00076d08a33ab87",
       "version_major": 2,
       "version_minor": 0
      },
      "text/plain": [
       "\\\\stem-linux-homes\\OSL-Telescope\\data\\users\\Pipeline\\COAST\\2021_10_29:   0%|          | 0/8 [00:00<?, ?it/s]"
      ]
     },
     "metadata": {},
     "output_type": "display_data"
    },
    {
     "data": {
      "application/vnd.jupyter.widget-view+json": {
       "model_id": "78d8c5dfcf4a4a1f9b4c0138d65eb035",
       "version_major": 2,
       "version_minor": 0
      },
      "text/plain": [
       "\\\\stem-linux-homes\\OSL-Telescope\\data\\users\\Pipeline\\COAST\\2021_10_30:   0%|          | 0/15 [00:00<?, ?it/s]"
      ]
     },
     "metadata": {},
     "output_type": "display_data"
    },
    {
     "data": {
      "application/vnd.jupyter.widget-view+json": {
       "model_id": "d2e66435c3ca4804a34aaaaa44378041",
       "version_major": 2,
       "version_minor": 0
      },
      "text/plain": [
       "\\\\stem-linux-homes\\OSL-Telescope\\data\\users\\Pipeline\\COAST\\2021_10_31:   0%|          | 0/29 [00:00<?, ?it/s]"
      ]
     },
     "metadata": {},
     "output_type": "display_data"
    },
    {
     "data": {
      "application/vnd.jupyter.widget-view+json": {
       "model_id": "fc25d0ced8614cc787ad287d8000bd9f",
       "version_major": 2,
       "version_minor": 0
      },
      "text/plain": [
       "\\\\stem-linux-homes\\OSL-Telescope\\data\\users\\Pipeline\\COAST\\2021_11_02:   0%|          | 0/6 [00:00<?, ?it/s]"
      ]
     },
     "metadata": {},
     "output_type": "display_data"
    },
    {
     "data": {
      "application/vnd.jupyter.widget-view+json": {
       "model_id": "9aa59cd9abea4038b7706004a29af664",
       "version_major": 2,
       "version_minor": 0
      },
      "text/plain": [
       "\\\\stem-linux-homes\\OSL-Telescope\\data\\users\\Pipeline\\COAST\\2021_11_03:   0%|          | 0/19 [00:00<?, ?it/s]"
      ]
     },
     "metadata": {},
     "output_type": "display_data"
    },
    {
     "data": {
      "application/vnd.jupyter.widget-view+json": {
       "model_id": "33c17d78e2e242b2b0c464bc53ed6e45",
       "version_major": 2,
       "version_minor": 0
      },
      "text/plain": [
       "\\\\stem-linux-homes\\OSL-Telescope\\data\\users\\Pipeline\\COAST\\2021_11_05:   0%|          | 0/14 [00:00<?, ?it/s]"
      ]
     },
     "metadata": {},
     "output_type": "display_data"
    },
    {
     "ename": "KeyboardInterrupt",
     "evalue": "",
     "output_type": "error",
     "traceback": [
      "\u001b[1;31m---------------------------------------------------------------------------\u001b[0m",
      "\u001b[1;31mKeyboardInterrupt\u001b[0m                         Traceback (most recent call last)",
      "\u001b[1;32m~\\AppData\\Local\\Temp/ipykernel_47276/750914089.py\u001b[0m in \u001b[0;36m<module>\u001b[1;34m\u001b[0m\n\u001b[0;32m     32\u001b[0m \u001b[1;33m\u001b[0m\u001b[0m\n\u001b[0;32m     33\u001b[0m \u001b[1;33m\u001b[0m\u001b[0m\n\u001b[1;32m---> 34\u001b[1;33m         \u001b[0mtable\u001b[0m \u001b[1;33m=\u001b[0m \u001b[0mTable\u001b[0m\u001b[1;33m.\u001b[0m\u001b[0mread\u001b[0m\u001b[1;33m(\u001b[0m\u001b[0mcatalogue\u001b[0m\u001b[1;33m,\u001b[0m \u001b[0mformat\u001b[0m\u001b[1;33m=\u001b[0m\u001b[1;34m'ascii.sextractor'\u001b[0m\u001b[1;33m)\u001b[0m\u001b[1;33m\u001b[0m\u001b[1;33m\u001b[0m\u001b[0m\n\u001b[0m\u001b[0;32m     35\u001b[0m         \u001b[0mtable\u001b[0m\u001b[1;33m.\u001b[0m\u001b[0mrename_column\u001b[0m\u001b[1;33m(\u001b[0m\u001b[1;34m'ALPHA_J2000'\u001b[0m\u001b[1;33m,\u001b[0m \u001b[1;34m'RA'\u001b[0m\u001b[1;33m)\u001b[0m\u001b[1;33m\u001b[0m\u001b[1;33m\u001b[0m\u001b[0m\n\u001b[0;32m     36\u001b[0m         \u001b[0mtable\u001b[0m\u001b[1;33m.\u001b[0m\u001b[0mrename_column\u001b[0m\u001b[1;33m(\u001b[0m\u001b[1;34m'DELTA_J2000'\u001b[0m\u001b[1;33m,\u001b[0m \u001b[1;34m'Dec'\u001b[0m\u001b[1;33m)\u001b[0m\u001b[1;33m\u001b[0m\u001b[1;33m\u001b[0m\u001b[0m\n",
      "\u001b[1;32m~\\Anaconda3\\lib\\site-packages\\astropy\\table\\connect.py\u001b[0m in \u001b[0;36m__call__\u001b[1;34m(self, *args, **kwargs)\u001b[0m\n\u001b[0;32m     59\u001b[0m         \u001b[0mdescriptions\u001b[0m \u001b[1;33m=\u001b[0m \u001b[0mkwargs\u001b[0m\u001b[1;33m.\u001b[0m\u001b[0mpop\u001b[0m\u001b[1;33m(\u001b[0m\u001b[1;34m'descriptions'\u001b[0m\u001b[1;33m,\u001b[0m \u001b[1;32mNone\u001b[0m\u001b[1;33m)\u001b[0m\u001b[1;33m\u001b[0m\u001b[1;33m\u001b[0m\u001b[0m\n\u001b[0;32m     60\u001b[0m \u001b[1;33m\u001b[0m\u001b[0m\n\u001b[1;32m---> 61\u001b[1;33m         \u001b[0mout\u001b[0m \u001b[1;33m=\u001b[0m \u001b[0mregistry\u001b[0m\u001b[1;33m.\u001b[0m\u001b[0mread\u001b[0m\u001b[1;33m(\u001b[0m\u001b[0mcls\u001b[0m\u001b[1;33m,\u001b[0m \u001b[1;33m*\u001b[0m\u001b[0margs\u001b[0m\u001b[1;33m,\u001b[0m \u001b[1;33m**\u001b[0m\u001b[0mkwargs\u001b[0m\u001b[1;33m)\u001b[0m\u001b[1;33m\u001b[0m\u001b[1;33m\u001b[0m\u001b[0m\n\u001b[0m\u001b[0;32m     62\u001b[0m \u001b[1;33m\u001b[0m\u001b[0m\n\u001b[0;32m     63\u001b[0m         \u001b[1;31m# For some readers (e.g., ascii.ecsv), the returned `out` class is not\u001b[0m\u001b[1;33m\u001b[0m\u001b[1;33m\u001b[0m\u001b[1;33m\u001b[0m\u001b[0m\n",
      "\u001b[1;32m~\\Anaconda3\\lib\\site-packages\\astropy\\io\\registry.py\u001b[0m in \u001b[0;36mread\u001b[1;34m(cls, format, cache, *args, **kwargs)\u001b[0m\n\u001b[0;32m    525\u001b[0m \u001b[1;33m\u001b[0m\u001b[0m\n\u001b[0;32m    526\u001b[0m         \u001b[0mreader\u001b[0m \u001b[1;33m=\u001b[0m \u001b[0mget_reader\u001b[0m\u001b[1;33m(\u001b[0m\u001b[0mformat\u001b[0m\u001b[1;33m,\u001b[0m \u001b[0mcls\u001b[0m\u001b[1;33m)\u001b[0m\u001b[1;33m\u001b[0m\u001b[1;33m\u001b[0m\u001b[0m\n\u001b[1;32m--> 527\u001b[1;33m         \u001b[0mdata\u001b[0m \u001b[1;33m=\u001b[0m \u001b[0mreader\u001b[0m\u001b[1;33m(\u001b[0m\u001b[1;33m*\u001b[0m\u001b[0margs\u001b[0m\u001b[1;33m,\u001b[0m \u001b[1;33m**\u001b[0m\u001b[0mkwargs\u001b[0m\u001b[1;33m)\u001b[0m\u001b[1;33m\u001b[0m\u001b[1;33m\u001b[0m\u001b[0m\n\u001b[0m\u001b[0;32m    528\u001b[0m \u001b[1;33m\u001b[0m\u001b[0m\n\u001b[0;32m    529\u001b[0m         \u001b[1;32mif\u001b[0m \u001b[1;32mnot\u001b[0m \u001b[0misinstance\u001b[0m\u001b[1;33m(\u001b[0m\u001b[0mdata\u001b[0m\u001b[1;33m,\u001b[0m \u001b[0mcls\u001b[0m\u001b[1;33m)\u001b[0m\u001b[1;33m:\u001b[0m\u001b[1;33m\u001b[0m\u001b[1;33m\u001b[0m\u001b[0m\n",
      "\u001b[1;32m~\\Anaconda3\\lib\\site-packages\\astropy\\io\\ascii\\connect.py\u001b[0m in \u001b[0;36mio_read\u001b[1;34m(format, filename, **kwargs)\u001b[0m\n\u001b[0;32m     16\u001b[0m         \u001b[0mformat\u001b[0m \u001b[1;33m=\u001b[0m \u001b[0mre\u001b[0m\u001b[1;33m.\u001b[0m\u001b[0msub\u001b[0m\u001b[1;33m(\u001b[0m\u001b[1;34mr'^ascii\\.'\u001b[0m\u001b[1;33m,\u001b[0m \u001b[1;34m''\u001b[0m\u001b[1;33m,\u001b[0m \u001b[0mformat\u001b[0m\u001b[1;33m)\u001b[0m\u001b[1;33m\u001b[0m\u001b[1;33m\u001b[0m\u001b[0m\n\u001b[0;32m     17\u001b[0m         \u001b[0mkwargs\u001b[0m\u001b[1;33m[\u001b[0m\u001b[1;34m'format'\u001b[0m\u001b[1;33m]\u001b[0m \u001b[1;33m=\u001b[0m \u001b[0mformat\u001b[0m\u001b[1;33m\u001b[0m\u001b[1;33m\u001b[0m\u001b[0m\n\u001b[1;32m---> 18\u001b[1;33m     \u001b[1;32mreturn\u001b[0m \u001b[0mread\u001b[0m\u001b[1;33m(\u001b[0m\u001b[0mfilename\u001b[0m\u001b[1;33m,\u001b[0m \u001b[1;33m**\u001b[0m\u001b[0mkwargs\u001b[0m\u001b[1;33m)\u001b[0m\u001b[1;33m\u001b[0m\u001b[1;33m\u001b[0m\u001b[0m\n\u001b[0m\u001b[0;32m     19\u001b[0m \u001b[1;33m\u001b[0m\u001b[0m\n\u001b[0;32m     20\u001b[0m \u001b[1;33m\u001b[0m\u001b[0m\n",
      "\u001b[1;32m~\\Anaconda3\\lib\\site-packages\\astropy\\io\\ascii\\ui.py\u001b[0m in \u001b[0;36mread\u001b[1;34m(table, guess, **kwargs)\u001b[0m\n\u001b[0;32m    367\u001b[0m         \u001b[1;32melse\u001b[0m\u001b[1;33m:\u001b[0m\u001b[1;33m\u001b[0m\u001b[1;33m\u001b[0m\u001b[0m\n\u001b[0;32m    368\u001b[0m             \u001b[0mreader\u001b[0m \u001b[1;33m=\u001b[0m \u001b[0mget_reader\u001b[0m\u001b[1;33m(\u001b[0m\u001b[1;33m**\u001b[0m\u001b[0mnew_kwargs\u001b[0m\u001b[1;33m)\u001b[0m\u001b[1;33m\u001b[0m\u001b[1;33m\u001b[0m\u001b[0m\n\u001b[1;32m--> 369\u001b[1;33m             \u001b[0mdat\u001b[0m \u001b[1;33m=\u001b[0m \u001b[0mreader\u001b[0m\u001b[1;33m.\u001b[0m\u001b[0mread\u001b[0m\u001b[1;33m(\u001b[0m\u001b[0mtable\u001b[0m\u001b[1;33m)\u001b[0m\u001b[1;33m\u001b[0m\u001b[1;33m\u001b[0m\u001b[0m\n\u001b[0m\u001b[0;32m    370\u001b[0m             _read_trace.append({'kwargs': copy.deepcopy(new_kwargs),\n\u001b[0;32m    371\u001b[0m                                 \u001b[1;34m'Reader'\u001b[0m\u001b[1;33m:\u001b[0m \u001b[0mreader\u001b[0m\u001b[1;33m.\u001b[0m\u001b[0m__class__\u001b[0m\u001b[1;33m,\u001b[0m\u001b[1;33m\u001b[0m\u001b[1;33m\u001b[0m\u001b[0m\n",
      "\u001b[1;32m~\\Anaconda3\\lib\\site-packages\\astropy\\io\\ascii\\sextractor.py\u001b[0m in \u001b[0;36mread\u001b[1;34m(self, table)\u001b[0m\n\u001b[0;32m    147\u001b[0m         single string) into a Table and return the result.\n\u001b[0;32m    148\u001b[0m         \"\"\"\n\u001b[1;32m--> 149\u001b[1;33m         \u001b[0mout\u001b[0m \u001b[1;33m=\u001b[0m \u001b[0msuper\u001b[0m\u001b[1;33m(\u001b[0m\u001b[1;33m)\u001b[0m\u001b[1;33m.\u001b[0m\u001b[0mread\u001b[0m\u001b[1;33m(\u001b[0m\u001b[0mtable\u001b[0m\u001b[1;33m)\u001b[0m\u001b[1;33m\u001b[0m\u001b[1;33m\u001b[0m\u001b[0m\n\u001b[0m\u001b[0;32m    150\u001b[0m         \u001b[1;31m# remove the comments\u001b[0m\u001b[1;33m\u001b[0m\u001b[1;33m\u001b[0m\u001b[1;33m\u001b[0m\u001b[0m\n\u001b[0;32m    151\u001b[0m         \u001b[1;32mif\u001b[0m \u001b[1;34m'comments'\u001b[0m \u001b[1;32min\u001b[0m \u001b[0mout\u001b[0m\u001b[1;33m.\u001b[0m\u001b[0mmeta\u001b[0m\u001b[1;33m:\u001b[0m\u001b[1;33m\u001b[0m\u001b[1;33m\u001b[0m\u001b[0m\n",
      "\u001b[1;32m~\\Anaconda3\\lib\\site-packages\\astropy\\io\\ascii\\core.py\u001b[0m in \u001b[0;36mread\u001b[1;34m(self, table)\u001b[0m\n\u001b[0;32m   1374\u001b[0m                                      self.include_names, self.exclude_names)\n\u001b[0;32m   1375\u001b[0m \u001b[1;33m\u001b[0m\u001b[0m\n\u001b[1;32m-> 1376\u001b[1;33m         \u001b[0mtable\u001b[0m \u001b[1;33m=\u001b[0m \u001b[0mself\u001b[0m\u001b[1;33m.\u001b[0m\u001b[0moutputter\u001b[0m\u001b[1;33m(\u001b[0m\u001b[0mself\u001b[0m\u001b[1;33m.\u001b[0m\u001b[0mheader\u001b[0m\u001b[1;33m.\u001b[0m\u001b[0mcols\u001b[0m\u001b[1;33m,\u001b[0m \u001b[0mself\u001b[0m\u001b[1;33m.\u001b[0m\u001b[0mmeta\u001b[0m\u001b[1;33m)\u001b[0m\u001b[1;33m\u001b[0m\u001b[1;33m\u001b[0m\u001b[0m\n\u001b[0m\u001b[0;32m   1377\u001b[0m         \u001b[0mself\u001b[0m\u001b[1;33m.\u001b[0m\u001b[0mcols\u001b[0m \u001b[1;33m=\u001b[0m \u001b[0mself\u001b[0m\u001b[1;33m.\u001b[0m\u001b[0mheader\u001b[0m\u001b[1;33m.\u001b[0m\u001b[0mcols\u001b[0m\u001b[1;33m\u001b[0m\u001b[1;33m\u001b[0m\u001b[0m\n\u001b[0;32m   1378\u001b[0m \u001b[1;33m\u001b[0m\u001b[0m\n",
      "\u001b[1;32m~\\Anaconda3\\lib\\site-packages\\astropy\\io\\ascii\\core.py\u001b[0m in \u001b[0;36m__call__\u001b[1;34m(self, cols, meta)\u001b[0m\n\u001b[0;32m   1110\u001b[0m         \u001b[1;31m# Sets col.data to numpy array and col.type to io.ascii Type class (e.g.\u001b[0m\u001b[1;33m\u001b[0m\u001b[1;33m\u001b[0m\u001b[1;33m\u001b[0m\u001b[0m\n\u001b[0;32m   1111\u001b[0m         \u001b[1;31m# FloatType) for each col.\u001b[0m\u001b[1;33m\u001b[0m\u001b[1;33m\u001b[0m\u001b[1;33m\u001b[0m\u001b[0m\n\u001b[1;32m-> 1112\u001b[1;33m         \u001b[0mself\u001b[0m\u001b[1;33m.\u001b[0m\u001b[0m_convert_vals\u001b[0m\u001b[1;33m(\u001b[0m\u001b[0mcols\u001b[0m\u001b[1;33m)\u001b[0m\u001b[1;33m\u001b[0m\u001b[1;33m\u001b[0m\u001b[0m\n\u001b[0m\u001b[0;32m   1113\u001b[0m \u001b[1;33m\u001b[0m\u001b[0m\n\u001b[0;32m   1114\u001b[0m         t_cols = [numpy.ma.MaskedArray(x.data, mask=x.mask)\n",
      "\u001b[1;32m~\\Anaconda3\\lib\\site-packages\\astropy\\io\\ascii\\core.py\u001b[0m in \u001b[0;36m_convert_vals\u001b[1;34m(self, cols)\u001b[0m\n\u001b[0;32m   1058\u001b[0m                     \u001b[1;32mif\u001b[0m \u001b[1;32mnot\u001b[0m \u001b[0missubclass\u001b[0m\u001b[1;33m(\u001b[0m\u001b[0mconverter_type\u001b[0m\u001b[1;33m,\u001b[0m \u001b[0mcol\u001b[0m\u001b[1;33m.\u001b[0m\u001b[0mtype\u001b[0m\u001b[1;33m)\u001b[0m\u001b[1;33m:\u001b[0m\u001b[1;33m\u001b[0m\u001b[1;33m\u001b[0m\u001b[0m\n\u001b[0;32m   1059\u001b[0m                         \u001b[1;32mraise\u001b[0m \u001b[0mTypeError\u001b[0m\u001b[1;33m(\u001b[0m\u001b[1;34m'converter type does not match column type'\u001b[0m\u001b[1;33m)\u001b[0m\u001b[1;33m\u001b[0m\u001b[1;33m\u001b[0m\u001b[0m\n\u001b[1;32m-> 1060\u001b[1;33m                     \u001b[0mcol\u001b[0m\u001b[1;33m.\u001b[0m\u001b[0mdata\u001b[0m \u001b[1;33m=\u001b[0m \u001b[0mconverter_func\u001b[0m\u001b[1;33m(\u001b[0m\u001b[0mcol\u001b[0m\u001b[1;33m.\u001b[0m\u001b[0mstr_vals\u001b[0m\u001b[1;33m)\u001b[0m\u001b[1;33m\u001b[0m\u001b[1;33m\u001b[0m\u001b[0m\n\u001b[0m\u001b[0;32m   1061\u001b[0m                     \u001b[0mcol\u001b[0m\u001b[1;33m.\u001b[0m\u001b[0mtype\u001b[0m \u001b[1;33m=\u001b[0m \u001b[0mconverter_type\u001b[0m\u001b[1;33m\u001b[0m\u001b[1;33m\u001b[0m\u001b[0m\n\u001b[0;32m   1062\u001b[0m                 \u001b[1;32mexcept\u001b[0m \u001b[1;33m(\u001b[0m\u001b[0mTypeError\u001b[0m\u001b[1;33m,\u001b[0m \u001b[0mValueError\u001b[0m\u001b[1;33m)\u001b[0m \u001b[1;32mas\u001b[0m \u001b[0merr\u001b[0m\u001b[1;33m:\u001b[0m\u001b[1;33m\u001b[0m\u001b[1;33m\u001b[0m\u001b[0m\n",
      "\u001b[1;31mKeyboardInterrupt\u001b[0m: "
     ]
    }
   ],
   "source": [
    "new_dates = [p for p in DATA_PATH.glob('*/202?_??_??') if p not in processed_dates]\n",
    "total_dates = len(new_dates)\n",
    "obs_tables = {}\n",
    "\n",
    "SPLIT_SIZE = 10\n",
    "\n",
    "for date in tqdm(new_dates, desc='New dates'):\n",
    "    date_has_data = False\n",
    "    for catalogue in tqdm(list(date.glob('Catalogues/*_anm83_*.cat')), desc=str(date)):\n",
    "        date_has_data = True\n",
    "        name = None\n",
    "        for escaped_target_name, target_name in ESCAPED_TARGET_NAMES.items():\n",
    "            if escaped_target_name in catalogue.stem:\n",
    "                name = target_name\n",
    "                obs_meta = list(itertools.chain.from_iterable(l.split('_') for l in catalogue.stem.split(f'_{escaped_target_name}_')))\n",
    "                break\n",
    "        if name is None:\n",
    "            continue\n",
    "        obs_meta = {\n",
    "            'telescope': obs_meta[0],\n",
    "            'main target': name,\n",
    "            'band': obs_meta[6][0],\n",
    "            'exposure': float(obs_meta[6][1:]),\n",
    "            'timestamp': Time(\n",
    "                dict(zip(\n",
    "                    ['year', 'month', 'day', 'hour', 'minute', 'second'],\n",
    "                    map(int, obs_meta[8:14])\n",
    "                )),\n",
    "                format='ymdhms',\n",
    "            ).jd,\n",
    "        }\n",
    "\n",
    "        \n",
    "        table = Table.read(catalogue, format='ascii.sextractor')\n",
    "        table.rename_column('ALPHA_J2000', 'RA')\n",
    "        table.rename_column('DELTA_J2000', 'Dec')\n",
    "\n",
    "        matching.match_targets(table)\n",
    "        table.rename_column('RA', '_RAJ2000')\n",
    "        table.rename_column('Dec', '_DEJ2000')\n",
    "        matched_targets = table[table['matched target'].mask == False]\n",
    "        \n",
    "        for target_row in matched_targets:\n",
    "            out_table = Table(target_row)\n",
    "\n",
    "            calibration_succeeded = False\n",
    "\n",
    "            Path(f\"data/calibration_tables/{target_row['matched target']}\").mkdir(parents=True, exist_ok=True)\n",
    "            for calibration_catalogue, calibration_catalogue_fields in CALIBRATION_CATALOGUES.items():\n",
    "                if obs_meta['band'] in calibration_catalogue_fields:\n",
    "                    calibration_catalogue_path = f\"data/calibration_tables/{target_row['matched target']}/{calibration_catalogue.replace('/', '_')}_{catalogue.stem}.ecsv\"\n",
    "                    try:\n",
    "                        calibration_table = Table.read(calibration_catalogue_path)\n",
    "                    except FileNotFoundError:\n",
    "                        table = table[table['FLAGS'] == 0]\n",
    "                        table['flux_diff'] = numpy.abs(table['FLUX_AUTO'] - target_row['FLUX_AUTO'])\n",
    "                        table.sort('flux_diff')\n",
    "                        table = table[:50]\n",
    "                        table['separation'] = table['coords'].separation(target_row['coords'])\n",
    "                        table.sort('separation')\n",
    "\n",
    "                        calibration_rows = []\n",
    "\n",
    "                        total_iterations = int(len(table) / SPLIT_SIZE) + 1\n",
    "                        for i in range(total_iterations):\n",
    "                            sources = table[i * SPLIT_SIZE : (i+1) * SPLIT_SIZE]\n",
    "                            if len(sources) == 0:\n",
    "                                continue\n",
    "                            sources = vstack([ row for row in sources if row['NUMBER'] != target_row['NUMBER'] ])\n",
    "                            catalogue_results = Vizier.query_region(sources, radius=1e-4*u.deg, catalog=calibration_catalogue)\n",
    "                            if len(catalogue_results) == 0:\n",
    "                                continue\n",
    "\n",
    "                            # Reject any sources with multiple matches\n",
    "                            catalogue_matches = unique(catalogue_results[0], '_q', keep='none')\n",
    "\n",
    "                            # To do: Reject any known variables\n",
    "\n",
    "                            for catalogue_row in catalogue_matches[~numpy.isnan(catalogue_matches[calibration_catalogue_fields[obs_meta['band']]])]:\n",
    "                                calibration_rows.append(hstack([\n",
    "                                    sources[int(catalogue_row['_q']) - 1],\n",
    "                                    catalogue_row[[calibration_catalogue_fields[obs_meta['band']]]],\n",
    "                                ]))\n",
    "\n",
    "                            if len(calibration_rows) >= NUM_CALIBRATION_ROWS:\n",
    "                                break\n",
    "                        if len(calibration_rows) < NUM_CALIBRATION_ROWS:\n",
    "                            continue\n",
    "                        calibration_table = vstack(calibration_rows[:NUM_CALIBRATION_ROWS], metadata_conflicts='silent')\n",
    "                        calibration_table.write(\n",
    "                            calibration_catalogue_path,\n",
    "                            overwrite=True,\n",
    "                        )\n",
    "\n",
    "                    calibrated_mags = (\n",
    "                        calibration_table[calibration_catalogue_fields[obs_meta['band']]] \n",
    "                        - 2.5 * numpy.log10(target_row['FLUX_AUTO'] / calibration_table['FLUX_AUTO'])\n",
    "                    )\n",
    "\n",
    "                    # To do: Maybe this should be a weighted average using the flux error?\n",
    "                    out_table.add_columns(\n",
    "                        [\n",
    "                            numpy.mean(calibrated_mags),\n",
    "                            # Standard error as per https://www.statology.org/standard-error-of-mean-python/\n",
    "                            numpy.std(calibrated_mags, ddof=1) / numpy.sqrt(numpy.size(calibrated_mags)),\n",
    "                            calibration_catalogue,\n",
    "                            obs_meta['main target'],\n",
    "                        ],\n",
    "                        names=[\n",
    "                            'calibrated_mag',\n",
    "                            'calibrated_mag_err',\n",
    "                            'calibration_catalogue',\n",
    "                            'main_target',\n",
    "                        ],\n",
    "                    )\n",
    "                    calibration_succeeded = True\n",
    "                    break\n",
    "\n",
    "            if not calibration_succeeded:\n",
    "                out_table.add_columns(\n",
    "                    [\n",
    "                        numpy.nan,\n",
    "                        numpy.nan,\n",
    "                        '',\n",
    "                        obs_meta['main target'],\n",
    "                    ],\n",
    "                    names=[\n",
    "                        'calibrated_mag',\n",
    "                        'calibrated_mag_err',\n",
    "                        'calibration_catalogue',\n",
    "                        'main_target',\n",
    "                    ],\n",
    "                )\n",
    "\n",
    "            for key, val in obs_meta.items():\n",
    "                out_table[key] = val\n",
    "\n",
    "            if target_row['matched target'] not in obs_tables:\n",
    "                try:\n",
    "                    if REPROCESS:\n",
    "                        obs_tables[target_row['matched target']] = out_table\n",
    "                        continue\n",
    "                    else:\n",
    "                        obs_tables[target_row['matched target']] = Table.read(f\"data/{target_row['matched target']}.ecsv\")\n",
    "                except FileNotFoundError:\n",
    "                    obs_tables[target_row['matched target']] = out_table\n",
    "                    continue\n",
    "            obs_tables[target_row['matched target']] = vstack([obs_tables[target_row['matched target']], out_table])\n",
    "        \n",
    "    if not REPROCESS:\n",
    "        processed_dates[date] = date_has_data"
   ]
  },
  {
   "cell_type": "code",
   "execution_count": null,
   "id": "03cc5012-89c8-4a60-99cd-38db9312a047",
   "metadata": {},
   "outputs": [],
   "source": [
    "for name, table in obs_tables.items():\n",
    "    table.write(f\"data/{name}.ecsv\", overwrite=True)"
   ]
  },
  {
   "cell_type": "code",
   "execution_count": null,
   "id": "27e2fe8f-c6c6-454d-ac97-460fc5c9fdb7",
   "metadata": {},
   "outputs": [],
   "source": [
    "if not REPROCESS:\n",
    "    with open('data/processed_dates.pickle', 'wb') as processed_dates_file:\n",
    "        pickle.dump(processed_dates, processed_dates_file)"
   ]
  },
  {
   "cell_type": "code",
   "execution_count": null,
   "id": "bfa27474-870e-463a-a140-7c9d777bb090",
   "metadata": {},
   "outputs": [],
   "source": []
  }
 ],
 "metadata": {
  "kernelspec": {
   "display_name": "Python 3 (ipykernel)",
   "language": "python",
   "name": "python3"
  },
  "language_info": {
   "codemirror_mode": {
    "name": "ipython",
    "version": 3
   },
   "file_extension": ".py",
   "mimetype": "text/x-python",
   "name": "python",
   "nbconvert_exporter": "python",
   "pygments_lexer": "ipython3",
   "version": "3.8.5"
  }
 },
 "nbformat": 4,
 "nbformat_minor": 5
}
