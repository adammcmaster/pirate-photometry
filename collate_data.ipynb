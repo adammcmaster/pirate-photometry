{
 "cells": [
  {
   "cell_type": "code",
   "execution_count": 1,
   "id": "aed1f1e4-8d87-47e0-8b29-a35abb25ffec",
   "metadata": {},
   "outputs": [],
   "source": [
    "from pathlib import Path\n",
    "\n",
    "import pickle"
   ]
  },
  {
   "cell_type": "code",
   "execution_count": 2,
   "id": "daf55d63-c5ba-4711-b16b-d675621dccbf",
   "metadata": {},
   "outputs": [],
   "source": [
    "DATA_PATH = Path(\"//stem-linux-homes/OSL-Telescope/data/users/Pipeline/PIRATE/\")"
   ]
  },
  {
   "cell_type": "code",
   "execution_count": 3,
   "id": "8241d12c-3c83-433d-b26c-4a04e885eac0",
   "metadata": {},
   "outputs": [],
   "source": [
    "try: \n",
    "    with open('data/processed_dates.pickle', 'rb') as processed_dates_file:\n",
    "        processed_dates = pickle.load(processed_dates_file)\n",
    "except FileNotFoundError:\n",
    "    processed_dates = []"
   ]
  },
  {
   "cell_type": "code",
   "execution_count": 12,
   "id": "28ababc2-2d96-4505-99ef-fbbcaad05afe",
   "metadata": {},
   "outputs": [
    {
     "name": "stdout",
     "output_type": "stream",
     "text": [
      "{'name': 'HD38451', 'band': 'B', 'exp': '15', 'timestamp': ['2021', '10', '10', '01', '30', '26']}\n",
      "{'name': 'HD38451', 'band': 'B', 'exp': '20', 'timestamp': ['2021', '10', '10', '01', '30', '45']}\n",
      "{'name': 'HD38451', 'band': 'V', 'exp': '10', 'timestamp': ['2021', '10', '10', '01', '31', '16']}\n",
      "{'name': 'HD38451', 'band': 'V', 'exp': '15', 'timestamp': ['2021', '10', '10', '01', '31', '30']}\n",
      "{'name': 'HD38451', 'band': 'R', 'exp': '10', 'timestamp': ['2021', '10', '10', '01', '31', '59']}\n",
      "{'name': 'HD38451', 'band': 'I', 'exp': '20', 'timestamp': ['2021', '10', '10', '01', '32', '23']}\n",
      "{'name': 'HD38451', 'band': 'I', 'exp': '25', 'timestamp': ['2021', '10', '10', '01', '32', '47']}\n",
      "{'name': 'HD38451', 'band': 'B', 'exp': '15', 'timestamp': ['2021', '10', '10', '04', '10', '06']}\n",
      "{'name': 'HD38451', 'band': 'B', 'exp': '20', 'timestamp': ['2021', '10', '10', '04', '10', '25']}\n",
      "{'name': 'HD38451', 'band': 'V', 'exp': '10', 'timestamp': ['2021', '10', '10', '04', '10', '56']}\n",
      "{'name': 'HD38451', 'band': 'V', 'exp': '15', 'timestamp': ['2021', '10', '10', '04', '11', '10']}\n",
      "{'name': 'HD38451', 'band': 'R', 'exp': '10', 'timestamp': ['2021', '10', '10', '04', '11', '39']}\n",
      "{'name': 'HD38451', 'band': 'I', 'exp': '20', 'timestamp': ['2021', '10', '10', '04', '12', '02']}\n",
      "{'name': 'HD38451', 'band': 'I', 'exp': '25', 'timestamp': ['2021', '10', '10', '04', '12', '26']}\n"
     ]
    }
   ],
   "source": [
    "new_dates = [p for p in DATA_PATH.glob('202?_??_??') if p not in processed_dates]\n",
    "for date in new_dates[:10]:\n",
    "    for catalogue in date.glob('Catalogues/*_anm83_*.cat'):\n",
    "        obs_meta = catalogue.stem.split('_')\n",
    "        obs_meta = {\n",
    "            'name': obs_meta[5],\n",
    "            'band': obs_meta[7][0],\n",
    "            'exposure': obs_meta[7][1:],\n",
    "            'timestamp': obs_meta[9:15],\n",
    "        }\n",
    "        print(obs_meta)\n",
    "    processed_dates.append(date)"
   ]
  },
  {
   "cell_type": "code",
   "execution_count": 5,
   "id": "27e2fe8f-c6c6-454d-ac97-460fc5c9fdb7",
   "metadata": {},
   "outputs": [],
   "source": [
    "with open('data/processed_dates.pickle', 'wb') as processed_dates_file:\n",
    "    pickle.dump(processed_dates, processed_dates_file)"
   ]
  },
  {
   "cell_type": "code",
   "execution_count": null,
   "id": "704b847a-dbc3-4fc2-8ce4-ecf1fe1c6dab",
   "metadata": {},
   "outputs": [],
   "source": []
  }
 ],
 "metadata": {
  "kernelspec": {
   "display_name": "Python 3 (ipykernel)",
   "language": "python",
   "name": "python3"
  },
  "language_info": {
   "codemirror_mode": {
    "name": "ipython",
    "version": 3
   },
   "file_extension": ".py",
   "mimetype": "text/x-python",
   "name": "python",
   "nbconvert_exporter": "python",
   "pygments_lexer": "ipython3",
   "version": "3.8.5"
  }
 },
 "nbformat": 4,
 "nbformat_minor": 5
}
