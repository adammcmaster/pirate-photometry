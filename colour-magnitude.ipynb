{
 "cells": [
  {
   "cell_type": "code",
   "execution_count": null,
   "id": "4eec57eb-f45b-457b-a019-93d818341a32",
   "metadata": {},
   "outputs": [],
   "source": [
    "from astropy.coordinates import SkyCoord\n",
    "from astropy.table import Table\n",
    "from astropy import units as u\n",
    "from astroquery.vizier import Vizier\n",
    "\n",
    "from matplotlib import pyplot\n",
    "import numpy\n",
    "import pandas\n",
    "import seaborn\n",
    "\n",
    "from pathlib import Path\n",
    "\n",
    "from targets import TARGETS"
   ]
  },
  {
   "cell_type": "code",
   "execution_count": null,
   "id": "bf349eb5",
   "metadata": {},
   "outputs": [],
   "source": [
    "Vizier.ROW_LIMIT = 1e6"
   ]
  },
  {
   "cell_type": "code",
   "execution_count": null,
   "id": "8d2a3e0e-acab-4db9-988d-925ca118e79e",
   "metadata": {},
   "outputs": [],
   "source": [
    "try:\n",
    "    gaia = Table.read('data/gaia.ecsv')\n",
    "except FileNotFoundError:\n",
    "    gaia = Vizier.get_catalogs('I/350/gaiaedr3')[0]\n",
    "    gaia.write('data/gaia.ecsv')\n"
   ]
  },
  {
   "cell_type": "code",
   "execution_count": null,
   "id": "8d8bbc0b",
   "metadata": {},
   "outputs": [],
   "source": [
    "gaia['B - G'] = gaia['BPmag'] - gaia['Gmag']\n",
    "gaia['G - R'] = gaia['Gmag'] - gaia['RPmag']\n",
    "gaia['B - R'] = gaia['BPmag'] - gaia['RPmag']\n",
    "gaia['target'] = 'Gaia'\n",
    "gaia['type'] = 'Gaia archive'\n",
    "gaia['abs mag'] = gaia['Gmag'] + 5 * (1 + numpy.log10(gaia['Plx'] / 1e3))\n",
    "gaia['mag band'] = 'Gaia G'"
   ]
  },
  {
   "cell_type": "code",
   "execution_count": null,
   "id": "0a04c63a-b31f-45ec-8f22-882cca679b60",
   "metadata": {},
   "outputs": [],
   "source": [
    "target_values = {\n",
    "    'type': 'OU target',\n",
    "    'target': [],\n",
    "    'B - G': [],\n",
    "    'G - R': [],\n",
    "    'B - R': [],\n",
    "    'abs mag': [],\n",
    "    'mag band': [],\n",
    "}\n",
    "for table in Path('data').glob('target_observations/*.ecsv'):\n",
    "    if table.stem not in TARGETS:\n",
    "        continue\n",
    "    photometry = Table.read(table)\n",
    "    photometry = photometry[photometry['FLAGS'] == 0]\n",
    "    photometry = photometry.to_pandas()\n",
    "    if 'calibrated magnitude' not in photometry.keys():\n",
    "        continue\n",
    "    photometry['calibrated magnitude'] = photometry['calibrated magnitude'].apply(lambda m: float(m) if m is not None else None)\n",
    "    band_mags = {\n",
    "        'PIRATE': photometry.groupby('band').median()['calibrated magnitude'],\n",
    "    }\n",
    "    if len(band_mags) == 0:\n",
    "        continue\n",
    "    target_coords = SkyCoord.from_name(table.stem, parse=True)\n",
    "    try:\n",
    "        gaia_record = Vizier.query_region(target_coords, radius=2*u.arcmin, catalog='I/350/gaiaedr3')[0]\n",
    "        gaia_record.rename_column('RAJ2000', 'Ra')\n",
    "        gaia_record.rename_column('DEJ2000', 'Dec')\n",
    "        gaia_record.rename_column('Gmag', 'V') # Yes, I know these aren't the same\n",
    "        gaia_record.rename_column('BPmag', 'B')\n",
    "        gaia_record.rename_column('RPmag', 'R')\n",
    "        gaia_record['separation'] = SkyCoord.guess_from_table(gaia_record[['Ra', 'Dec']]).separation(target_coords)\n",
    "        gaia_record.sort('separation')\n",
    "        gaia_record = gaia_record.to_pandas().iloc[0]\n",
    "        band_mags['Gaia'] = gaia_record[['V', 'B', 'R']]\n",
    "        parallax = gaia_record['Plx']\n",
    "    except IndexError:\n",
    "        continue\n",
    "    for telescope, bands in band_mags.items():\n",
    "        colours = {\n",
    "            'B - G': bands['B'] - bands['V'],\n",
    "            'G - R': bands['V'] - bands['R'],\n",
    "            'B - R': bands['B'] - bands['R'],\n",
    "        }\n",
    "        for band, mag in bands.items():\n",
    "            target_values['target'].append(table.stem)\n",
    "            for colour_name, colour_value in colours.items():\n",
    "                target_values[colour_name].append(colour_value)\n",
    "\n",
    "            target_values['abs mag'].append(mag + 5 * (1 + numpy.log10(parallax / 1e3)))\n",
    "            target_values['mag band'].append(f'{telescope} {band}')\n",
    "\n",
    "df = pandas.DataFrame(target_values)"
   ]
  },
  {
   "cell_type": "code",
   "execution_count": null,
   "id": "3c3c52e8-79bc-48d4-a3e0-8d702dcec866",
   "metadata": {},
   "outputs": [],
   "source": [
    "for target, group in df.groupby('target'):\n",
    "    print(target)\n",
    "    cmd = seaborn.scatterplot(\n",
    "        data=pandas.concat([\n",
    "            gaia.to_pandas(),\n",
    "            group,\n",
    "        ]),\n",
    "        x='B - R',\n",
    "        y='abs mag',\n",
    "        hue='mag band',\n",
    "        size='type',\n",
    "        sizes={'OU target': 100, 'Gaia archive': 0.01},\n",
    "    )\n",
    "    cmd.set(title=target)\n",
    "    pyplot.legend(bbox_to_anchor=(1.05, 1), loc=2, borderaxespad=0.)\n",
    "    pyplot.ylim((-5, 15))\n",
    "    pyplot.xlim((0, 4))\n",
    "    cmd.invert_yaxis()\n",
    "    pyplot.show()"
   ]
  },
  {
   "cell_type": "code",
   "execution_count": null,
   "id": "e37cd9e9",
   "metadata": {},
   "outputs": [],
   "source": [
    "seaborn.relplot(\n",
    "    data=pandas.concat([\n",
    "            gaia.to_pandas(),\n",
    "            df,\n",
    "        ]),\n",
    "    x='G - R',\n",
    "    y='B - G',\n",
    "    hue='target',\n",
    "    size='type',\n",
    "    sizes={'OU target': 100, 'Gaia archive': 0.01},\n",
    ")\n",
    "pyplot.ylim((-1, 4))\n",
    "pyplot.xlim((-2, 4))"
   ]
  }
 ],
 "metadata": {
  "kernelspec": {
   "display_name": "Python 3 (ipykernel)",
   "language": "python",
   "name": "python3"
  },
  "language_info": {
   "codemirror_mode": {
    "name": "ipython",
    "version": 3
   },
   "file_extension": ".py",
   "mimetype": "text/x-python",
   "name": "python",
   "nbconvert_exporter": "python",
   "pygments_lexer": "ipython3",
   "version": "3.9.7"
  }
 },
 "nbformat": 4,
 "nbformat_minor": 5
}
